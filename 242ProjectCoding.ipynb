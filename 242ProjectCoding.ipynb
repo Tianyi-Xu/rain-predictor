{
 "cells": [
  {
   "cell_type": "markdown",
   "metadata": {},
   "source": [
    "# Data (Preprocessing & Feature Engineering)"
   ]
  },
  {
   "cell_type": "markdown",
   "metadata": {},
   "source": [
    "## Import Data"
   ]
  },
  {
   "cell_type": "code",
   "execution_count": 1,
   "metadata": {},
   "outputs": [],
   "source": [
    "# import\n",
    "import pandas as pd\n",
    "import numpy as np\n",
    "import matplotlib.pyplot as plt\n",
    "from sklearn.model_selection import train_test_split\n",
    "import sys\n",
    "import warnings\n",
    "if not sys.warnoptions:\n",
    "    warnings.simplefilter(\"ignore\")"
   ]
  },
  {
   "cell_type": "code",
   "execution_count": 2,
   "metadata": {},
   "outputs": [
    {
     "data": {
      "text/html": [
       "<div>\n",
       "<style scoped>\n",
       "    .dataframe tbody tr th:only-of-type {\n",
       "        vertical-align: middle;\n",
       "    }\n",
       "\n",
       "    .dataframe tbody tr th {\n",
       "        vertical-align: top;\n",
       "    }\n",
       "\n",
       "    .dataframe thead th {\n",
       "        text-align: right;\n",
       "    }\n",
       "</style>\n",
       "<table border=\"1\" class=\"dataframe\">\n",
       "  <thead>\n",
       "    <tr style=\"text-align: right;\">\n",
       "      <th></th>\n",
       "      <th>Date</th>\n",
       "      <th>Location</th>\n",
       "      <th>MinTemp</th>\n",
       "      <th>MaxTemp</th>\n",
       "      <th>Rainfall</th>\n",
       "      <th>Evaporation</th>\n",
       "      <th>Sunshine</th>\n",
       "      <th>WindGustDir</th>\n",
       "      <th>WindGustSpeed</th>\n",
       "      <th>WindDir9am</th>\n",
       "      <th>...</th>\n",
       "      <th>WindSpeed3pm</th>\n",
       "      <th>Humidity9am</th>\n",
       "      <th>Humidity3pm</th>\n",
       "      <th>Pressure9am</th>\n",
       "      <th>Pressure3pm</th>\n",
       "      <th>Cloud9am</th>\n",
       "      <th>Cloud3pm</th>\n",
       "      <th>Temp9am</th>\n",
       "      <th>Temp3pm</th>\n",
       "      <th>RainTomorrow</th>\n",
       "    </tr>\n",
       "  </thead>\n",
       "  <tbody>\n",
       "    <tr>\n",
       "      <th>0</th>\n",
       "      <td>2015-03-24</td>\n",
       "      <td>Adelaide</td>\n",
       "      <td>12.3</td>\n",
       "      <td>19.3</td>\n",
       "      <td>0.0</td>\n",
       "      <td>5.0</td>\n",
       "      <td>NaN</td>\n",
       "      <td>S</td>\n",
       "      <td>39.0</td>\n",
       "      <td>S</td>\n",
       "      <td>...</td>\n",
       "      <td>19.0</td>\n",
       "      <td>59.0</td>\n",
       "      <td>47.0</td>\n",
       "      <td>1022.2</td>\n",
       "      <td>1021.4</td>\n",
       "      <td>NaN</td>\n",
       "      <td>NaN</td>\n",
       "      <td>15.1</td>\n",
       "      <td>17.7</td>\n",
       "      <td>No</td>\n",
       "    </tr>\n",
       "    <tr>\n",
       "      <th>1</th>\n",
       "      <td>2011-07-12</td>\n",
       "      <td>Adelaide</td>\n",
       "      <td>7.9</td>\n",
       "      <td>11.4</td>\n",
       "      <td>0.0</td>\n",
       "      <td>1.0</td>\n",
       "      <td>0.5</td>\n",
       "      <td>N</td>\n",
       "      <td>20.0</td>\n",
       "      <td>NNE</td>\n",
       "      <td>...</td>\n",
       "      <td>7.0</td>\n",
       "      <td>70.0</td>\n",
       "      <td>59.0</td>\n",
       "      <td>1028.7</td>\n",
       "      <td>1025.7</td>\n",
       "      <td>NaN</td>\n",
       "      <td>NaN</td>\n",
       "      <td>8.4</td>\n",
       "      <td>11.3</td>\n",
       "      <td>No</td>\n",
       "    </tr>\n",
       "    <tr>\n",
       "      <th>2</th>\n",
       "      <td>2010-02-08</td>\n",
       "      <td>Adelaide</td>\n",
       "      <td>24.0</td>\n",
       "      <td>38.1</td>\n",
       "      <td>0.0</td>\n",
       "      <td>23.4</td>\n",
       "      <td>13.0</td>\n",
       "      <td>SE</td>\n",
       "      <td>39.0</td>\n",
       "      <td>NNE</td>\n",
       "      <td>...</td>\n",
       "      <td>19.0</td>\n",
       "      <td>36.0</td>\n",
       "      <td>24.0</td>\n",
       "      <td>1018.0</td>\n",
       "      <td>1016.0</td>\n",
       "      <td>NaN</td>\n",
       "      <td>NaN</td>\n",
       "      <td>32.4</td>\n",
       "      <td>37.4</td>\n",
       "      <td>No</td>\n",
       "    </tr>\n",
       "    <tr>\n",
       "      <th>3</th>\n",
       "      <td>2016-09-19</td>\n",
       "      <td>Adelaide</td>\n",
       "      <td>6.7</td>\n",
       "      <td>16.4</td>\n",
       "      <td>0.4</td>\n",
       "      <td>NaN</td>\n",
       "      <td>NaN</td>\n",
       "      <td>N</td>\n",
       "      <td>31.0</td>\n",
       "      <td>N</td>\n",
       "      <td>...</td>\n",
       "      <td>15.0</td>\n",
       "      <td>65.0</td>\n",
       "      <td>40.0</td>\n",
       "      <td>1014.4</td>\n",
       "      <td>1010.0</td>\n",
       "      <td>NaN</td>\n",
       "      <td>NaN</td>\n",
       "      <td>11.2</td>\n",
       "      <td>15.9</td>\n",
       "      <td>No</td>\n",
       "    </tr>\n",
       "    <tr>\n",
       "      <th>4</th>\n",
       "      <td>2014-03-05</td>\n",
       "      <td>Adelaide</td>\n",
       "      <td>16.7</td>\n",
       "      <td>24.8</td>\n",
       "      <td>0.0</td>\n",
       "      <td>6.6</td>\n",
       "      <td>11.7</td>\n",
       "      <td>S</td>\n",
       "      <td>37.0</td>\n",
       "      <td>S</td>\n",
       "      <td>...</td>\n",
       "      <td>24.0</td>\n",
       "      <td>61.0</td>\n",
       "      <td>48.0</td>\n",
       "      <td>1019.3</td>\n",
       "      <td>1018.9</td>\n",
       "      <td>NaN</td>\n",
       "      <td>NaN</td>\n",
       "      <td>20.8</td>\n",
       "      <td>23.7</td>\n",
       "      <td>No</td>\n",
       "    </tr>\n",
       "  </tbody>\n",
       "</table>\n",
       "<p>5 rows × 22 columns</p>\n",
       "</div>"
      ],
      "text/plain": [
       "         Date  Location  MinTemp  MaxTemp  Rainfall  Evaporation  Sunshine  \\\n",
       "0  2015-03-24  Adelaide     12.3     19.3       0.0          5.0       NaN   \n",
       "1  2011-07-12  Adelaide      7.9     11.4       0.0          1.0       0.5   \n",
       "2  2010-02-08  Adelaide     24.0     38.1       0.0         23.4      13.0   \n",
       "3  2016-09-19  Adelaide      6.7     16.4       0.4          NaN       NaN   \n",
       "4  2014-03-05  Adelaide     16.7     24.8       0.0          6.6      11.7   \n",
       "\n",
       "  WindGustDir  WindGustSpeed WindDir9am  ... WindSpeed3pm  Humidity9am  \\\n",
       "0           S           39.0          S  ...         19.0         59.0   \n",
       "1           N           20.0        NNE  ...          7.0         70.0   \n",
       "2          SE           39.0        NNE  ...         19.0         36.0   \n",
       "3           N           31.0          N  ...         15.0         65.0   \n",
       "4           S           37.0          S  ...         24.0         61.0   \n",
       "\n",
       "   Humidity3pm  Pressure9am  Pressure3pm  Cloud9am  Cloud3pm  Temp9am  \\\n",
       "0         47.0       1022.2       1021.4       NaN       NaN     15.1   \n",
       "1         59.0       1028.7       1025.7       NaN       NaN      8.4   \n",
       "2         24.0       1018.0       1016.0       NaN       NaN     32.4   \n",
       "3         40.0       1014.4       1010.0       NaN       NaN     11.2   \n",
       "4         48.0       1019.3       1018.9       NaN       NaN     20.8   \n",
       "\n",
       "   Temp3pm  RainTomorrow  \n",
       "0     17.7            No  \n",
       "1     11.3            No  \n",
       "2     37.4            No  \n",
       "3     15.9            No  \n",
       "4     23.7            No  \n",
       "\n",
       "[5 rows x 22 columns]"
      ]
     },
     "execution_count": 2,
     "metadata": {},
     "output_type": "execute_result"
    }
   ],
   "source": [
    "# import raw data\n",
    "weather = pd.read_csv(\"weatherAUS5000.csv\",index_col=0)\n",
    "weather.head()"
   ]
  },
  {
   "cell_type": "markdown",
   "metadata": {},
   "source": [
    "## Train/Test Split"
   ]
  },
  {
   "cell_type": "code",
   "execution_count": 3,
   "metadata": {},
   "outputs": [],
   "source": [
    "# split the dependent/independent variables\n",
    "X = weather.iloc[:,:-1]\n",
    "Y = weather.iloc[:,-1]"
   ]
  },
  {
   "cell_type": "code",
   "execution_count": 4,
   "metadata": {},
   "outputs": [
    {
     "data": {
      "text/plain": [
       "0"
      ]
     },
     "execution_count": 4,
     "metadata": {},
     "output_type": "execute_result"
    }
   ],
   "source": [
    "Y.isnull().sum() # no missing value in label"
   ]
  },
  {
   "cell_type": "code",
   "execution_count": 5,
   "metadata": {},
   "outputs": [
    {
     "data": {
      "text/plain": [
       "array(['No', 'Yes'], dtype=object)"
      ]
     },
     "execution_count": 5,
     "metadata": {},
     "output_type": "execute_result"
    }
   ],
   "source": [
    "#explore the label classes\n",
    "np.unique(Y) #binary classification"
   ]
  },
  {
   "cell_type": "code",
   "execution_count": 6,
   "metadata": {},
   "outputs": [],
   "source": [
    "# split train/test set\n",
    "Xtrain, Xtest, Ytrain, Ytest = train_test_split(X,Y,test_size=0.3,random_state=420) #solidify the random state"
   ]
  },
  {
   "cell_type": "code",
   "execution_count": 7,
   "metadata": {},
   "outputs": [],
   "source": [
    "# reset the indexes of each data set\n",
    "for i in [Xtrain, Xtest, Ytrain, Ytest]:\n",
    "    i.index = range(i.shape[0])"
   ]
  },
  {
   "cell_type": "code",
   "execution_count": 8,
   "metadata": {},
   "outputs": [],
   "source": [
    "# encode the label\n",
    "#Yes->1, No->2\n",
    "from sklearn.preprocessing import LabelEncoder\n",
    "encorder = LabelEncoder().fit(Ytrain)\n",
    "# use training set to train the encoder, and apply the encoder on both training/testing set\n",
    "Ytrain = pd.DataFrame(encorder.transform(Ytrain))\n",
    "Ytest = pd.DataFrame(encorder.transform(Ytest))"
   ]
  },
  {
   "cell_type": "markdown",
   "metadata": {},
   "source": [
    "## Preprocessing 1: Outliers"
   ]
  },
  {
   "cell_type": "code",
   "execution_count": 9,
   "metadata": {},
   "outputs": [
    {
     "data": {
      "text/html": [
       "<div>\n",
       "<style scoped>\n",
       "    .dataframe tbody tr th:only-of-type {\n",
       "        vertical-align: middle;\n",
       "    }\n",
       "\n",
       "    .dataframe tbody tr th {\n",
       "        vertical-align: top;\n",
       "    }\n",
       "\n",
       "    .dataframe thead th {\n",
       "        text-align: right;\n",
       "    }\n",
       "</style>\n",
       "<table border=\"1\" class=\"dataframe\">\n",
       "  <thead>\n",
       "    <tr style=\"text-align: right;\">\n",
       "      <th></th>\n",
       "      <th>count</th>\n",
       "      <th>mean</th>\n",
       "      <th>std</th>\n",
       "      <th>min</th>\n",
       "      <th>1%</th>\n",
       "      <th>5%</th>\n",
       "      <th>10%</th>\n",
       "      <th>25%</th>\n",
       "      <th>50%</th>\n",
       "      <th>75%</th>\n",
       "      <th>90%</th>\n",
       "      <th>99%</th>\n",
       "      <th>max</th>\n",
       "    </tr>\n",
       "  </thead>\n",
       "  <tbody>\n",
       "    <tr>\n",
       "      <th>MinTemp</th>\n",
       "      <td>3486.0</td>\n",
       "      <td>12.225645</td>\n",
       "      <td>6.396243</td>\n",
       "      <td>-6.5</td>\n",
       "      <td>-1.715</td>\n",
       "      <td>1.800</td>\n",
       "      <td>4.1</td>\n",
       "      <td>7.7</td>\n",
       "      <td>12.0</td>\n",
       "      <td>16.7</td>\n",
       "      <td>20.9</td>\n",
       "      <td>25.900</td>\n",
       "      <td>29.0</td>\n",
       "    </tr>\n",
       "    <tr>\n",
       "      <th>MaxTemp</th>\n",
       "      <td>3489.0</td>\n",
       "      <td>23.245543</td>\n",
       "      <td>7.201839</td>\n",
       "      <td>-3.7</td>\n",
       "      <td>8.888</td>\n",
       "      <td>12.840</td>\n",
       "      <td>14.5</td>\n",
       "      <td>18.0</td>\n",
       "      <td>22.5</td>\n",
       "      <td>28.4</td>\n",
       "      <td>33.0</td>\n",
       "      <td>40.400</td>\n",
       "      <td>46.4</td>\n",
       "    </tr>\n",
       "    <tr>\n",
       "      <th>Rainfall</th>\n",
       "      <td>3467.0</td>\n",
       "      <td>2.487049</td>\n",
       "      <td>7.949686</td>\n",
       "      <td>0.0</td>\n",
       "      <td>0.000</td>\n",
       "      <td>0.000</td>\n",
       "      <td>0.0</td>\n",
       "      <td>0.0</td>\n",
       "      <td>0.0</td>\n",
       "      <td>0.8</td>\n",
       "      <td>6.6</td>\n",
       "      <td>41.272</td>\n",
       "      <td>115.8</td>\n",
       "    </tr>\n",
       "    <tr>\n",
       "      <th>Evaporation</th>\n",
       "      <td>1983.0</td>\n",
       "      <td>5.619163</td>\n",
       "      <td>4.383098</td>\n",
       "      <td>0.0</td>\n",
       "      <td>0.400</td>\n",
       "      <td>0.800</td>\n",
       "      <td>1.4</td>\n",
       "      <td>2.6</td>\n",
       "      <td>4.8</td>\n",
       "      <td>7.4</td>\n",
       "      <td>10.2</td>\n",
       "      <td>20.600</td>\n",
       "      <td>56.0</td>\n",
       "    </tr>\n",
       "    <tr>\n",
       "      <th>Sunshine</th>\n",
       "      <td>1790.0</td>\n",
       "      <td>7.508659</td>\n",
       "      <td>3.805841</td>\n",
       "      <td>0.0</td>\n",
       "      <td>0.000</td>\n",
       "      <td>0.345</td>\n",
       "      <td>1.4</td>\n",
       "      <td>4.6</td>\n",
       "      <td>8.3</td>\n",
       "      <td>10.6</td>\n",
       "      <td>12.0</td>\n",
       "      <td>13.300</td>\n",
       "      <td>13.9</td>\n",
       "    </tr>\n",
       "    <tr>\n",
       "      <th>WindGustSpeed</th>\n",
       "      <td>3263.0</td>\n",
       "      <td>39.858413</td>\n",
       "      <td>13.219607</td>\n",
       "      <td>9.0</td>\n",
       "      <td>15.000</td>\n",
       "      <td>20.000</td>\n",
       "      <td>24.0</td>\n",
       "      <td>31.0</td>\n",
       "      <td>39.0</td>\n",
       "      <td>48.0</td>\n",
       "      <td>57.0</td>\n",
       "      <td>76.000</td>\n",
       "      <td>117.0</td>\n",
       "    </tr>\n",
       "    <tr>\n",
       "      <th>WindSpeed9am</th>\n",
       "      <td>3466.0</td>\n",
       "      <td>14.046163</td>\n",
       "      <td>8.670472</td>\n",
       "      <td>0.0</td>\n",
       "      <td>0.000</td>\n",
       "      <td>0.000</td>\n",
       "      <td>4.0</td>\n",
       "      <td>7.0</td>\n",
       "      <td>13.0</td>\n",
       "      <td>19.0</td>\n",
       "      <td>26.0</td>\n",
       "      <td>37.000</td>\n",
       "      <td>65.0</td>\n",
       "    </tr>\n",
       "    <tr>\n",
       "      <th>WindSpeed3pm</th>\n",
       "      <td>3437.0</td>\n",
       "      <td>18.553390</td>\n",
       "      <td>8.611818</td>\n",
       "      <td>0.0</td>\n",
       "      <td>2.000</td>\n",
       "      <td>6.000</td>\n",
       "      <td>7.0</td>\n",
       "      <td>13.0</td>\n",
       "      <td>19.0</td>\n",
       "      <td>24.0</td>\n",
       "      <td>30.0</td>\n",
       "      <td>43.000</td>\n",
       "      <td>65.0</td>\n",
       "    </tr>\n",
       "    <tr>\n",
       "      <th>Humidity9am</th>\n",
       "      <td>3459.0</td>\n",
       "      <td>69.069095</td>\n",
       "      <td>18.787698</td>\n",
       "      <td>2.0</td>\n",
       "      <td>18.000</td>\n",
       "      <td>35.000</td>\n",
       "      <td>45.0</td>\n",
       "      <td>57.0</td>\n",
       "      <td>70.0</td>\n",
       "      <td>83.0</td>\n",
       "      <td>94.0</td>\n",
       "      <td>100.000</td>\n",
       "      <td>100.0</td>\n",
       "    </tr>\n",
       "    <tr>\n",
       "      <th>Humidity3pm</th>\n",
       "      <td>3408.0</td>\n",
       "      <td>51.651995</td>\n",
       "      <td>20.697872</td>\n",
       "      <td>2.0</td>\n",
       "      <td>9.000</td>\n",
       "      <td>17.000</td>\n",
       "      <td>23.0</td>\n",
       "      <td>37.0</td>\n",
       "      <td>52.0</td>\n",
       "      <td>66.0</td>\n",
       "      <td>79.0</td>\n",
       "      <td>98.000</td>\n",
       "      <td>100.0</td>\n",
       "    </tr>\n",
       "    <tr>\n",
       "      <th>Pressure9am</th>\n",
       "      <td>3154.0</td>\n",
       "      <td>1017.622067</td>\n",
       "      <td>7.065236</td>\n",
       "      <td>985.1</td>\n",
       "      <td>1000.506</td>\n",
       "      <td>1006.100</td>\n",
       "      <td>1008.9</td>\n",
       "      <td>1012.8</td>\n",
       "      <td>1017.6</td>\n",
       "      <td>1022.3</td>\n",
       "      <td>1027.0</td>\n",
       "      <td>1033.247</td>\n",
       "      <td>1038.1</td>\n",
       "    </tr>\n",
       "    <tr>\n",
       "      <th>Pressure3pm</th>\n",
       "      <td>3154.0</td>\n",
       "      <td>1015.227077</td>\n",
       "      <td>7.032531</td>\n",
       "      <td>980.2</td>\n",
       "      <td>998.000</td>\n",
       "      <td>1004.000</td>\n",
       "      <td>1006.5</td>\n",
       "      <td>1010.3</td>\n",
       "      <td>1015.2</td>\n",
       "      <td>1020.0</td>\n",
       "      <td>1024.4</td>\n",
       "      <td>1030.800</td>\n",
       "      <td>1036.0</td>\n",
       "    </tr>\n",
       "    <tr>\n",
       "      <th>Cloud9am</th>\n",
       "      <td>2171.0</td>\n",
       "      <td>4.491939</td>\n",
       "      <td>2.858781</td>\n",
       "      <td>0.0</td>\n",
       "      <td>0.000</td>\n",
       "      <td>0.000</td>\n",
       "      <td>1.0</td>\n",
       "      <td>1.0</td>\n",
       "      <td>5.0</td>\n",
       "      <td>7.0</td>\n",
       "      <td>8.0</td>\n",
       "      <td>8.000</td>\n",
       "      <td>8.0</td>\n",
       "    </tr>\n",
       "    <tr>\n",
       "      <th>Cloud3pm</th>\n",
       "      <td>2095.0</td>\n",
       "      <td>4.603819</td>\n",
       "      <td>2.655765</td>\n",
       "      <td>0.0</td>\n",
       "      <td>0.000</td>\n",
       "      <td>0.000</td>\n",
       "      <td>1.0</td>\n",
       "      <td>2.0</td>\n",
       "      <td>5.0</td>\n",
       "      <td>7.0</td>\n",
       "      <td>8.0</td>\n",
       "      <td>8.000</td>\n",
       "      <td>8.0</td>\n",
       "    </tr>\n",
       "    <tr>\n",
       "      <th>Temp9am</th>\n",
       "      <td>3481.0</td>\n",
       "      <td>16.989859</td>\n",
       "      <td>6.537552</td>\n",
       "      <td>-5.2</td>\n",
       "      <td>2.400</td>\n",
       "      <td>7.000</td>\n",
       "      <td>9.0</td>\n",
       "      <td>12.2</td>\n",
       "      <td>16.6</td>\n",
       "      <td>21.6</td>\n",
       "      <td>26.0</td>\n",
       "      <td>31.000</td>\n",
       "      <td>38.0</td>\n",
       "    </tr>\n",
       "    <tr>\n",
       "      <th>Temp3pm</th>\n",
       "      <td>3431.0</td>\n",
       "      <td>21.719003</td>\n",
       "      <td>7.031199</td>\n",
       "      <td>-4.1</td>\n",
       "      <td>7.460</td>\n",
       "      <td>11.500</td>\n",
       "      <td>13.3</td>\n",
       "      <td>16.6</td>\n",
       "      <td>21.0</td>\n",
       "      <td>26.6</td>\n",
       "      <td>31.4</td>\n",
       "      <td>38.600</td>\n",
       "      <td>45.9</td>\n",
       "    </tr>\n",
       "  </tbody>\n",
       "</table>\n",
       "</div>"
      ],
      "text/plain": [
       "                count         mean        std    min        1%        5%  \\\n",
       "MinTemp        3486.0    12.225645   6.396243   -6.5    -1.715     1.800   \n",
       "MaxTemp        3489.0    23.245543   7.201839   -3.7     8.888    12.840   \n",
       "Rainfall       3467.0     2.487049   7.949686    0.0     0.000     0.000   \n",
       "Evaporation    1983.0     5.619163   4.383098    0.0     0.400     0.800   \n",
       "Sunshine       1790.0     7.508659   3.805841    0.0     0.000     0.345   \n",
       "WindGustSpeed  3263.0    39.858413  13.219607    9.0    15.000    20.000   \n",
       "WindSpeed9am   3466.0    14.046163   8.670472    0.0     0.000     0.000   \n",
       "WindSpeed3pm   3437.0    18.553390   8.611818    0.0     2.000     6.000   \n",
       "Humidity9am    3459.0    69.069095  18.787698    2.0    18.000    35.000   \n",
       "Humidity3pm    3408.0    51.651995  20.697872    2.0     9.000    17.000   \n",
       "Pressure9am    3154.0  1017.622067   7.065236  985.1  1000.506  1006.100   \n",
       "Pressure3pm    3154.0  1015.227077   7.032531  980.2   998.000  1004.000   \n",
       "Cloud9am       2171.0     4.491939   2.858781    0.0     0.000     0.000   \n",
       "Cloud3pm       2095.0     4.603819   2.655765    0.0     0.000     0.000   \n",
       "Temp9am        3481.0    16.989859   6.537552   -5.2     2.400     7.000   \n",
       "Temp3pm        3431.0    21.719003   7.031199   -4.1     7.460    11.500   \n",
       "\n",
       "                  10%     25%     50%     75%     90%       99%     max  \n",
       "MinTemp           4.1     7.7    12.0    16.7    20.9    25.900    29.0  \n",
       "MaxTemp          14.5    18.0    22.5    28.4    33.0    40.400    46.4  \n",
       "Rainfall          0.0     0.0     0.0     0.8     6.6    41.272   115.8  \n",
       "Evaporation       1.4     2.6     4.8     7.4    10.2    20.600    56.0  \n",
       "Sunshine          1.4     4.6     8.3    10.6    12.0    13.300    13.9  \n",
       "WindGustSpeed    24.0    31.0    39.0    48.0    57.0    76.000   117.0  \n",
       "WindSpeed9am      4.0     7.0    13.0    19.0    26.0    37.000    65.0  \n",
       "WindSpeed3pm      7.0    13.0    19.0    24.0    30.0    43.000    65.0  \n",
       "Humidity9am      45.0    57.0    70.0    83.0    94.0   100.000   100.0  \n",
       "Humidity3pm      23.0    37.0    52.0    66.0    79.0    98.000   100.0  \n",
       "Pressure9am    1008.9  1012.8  1017.6  1022.3  1027.0  1033.247  1038.1  \n",
       "Pressure3pm    1006.5  1010.3  1015.2  1020.0  1024.4  1030.800  1036.0  \n",
       "Cloud9am          1.0     1.0     5.0     7.0     8.0     8.000     8.0  \n",
       "Cloud3pm          1.0     2.0     5.0     7.0     8.0     8.000     8.0  \n",
       "Temp9am           9.0    12.2    16.6    21.6    26.0    31.000    38.0  \n",
       "Temp3pm          13.3    16.6    21.0    26.6    31.4    38.600    45.9  "
      ]
     },
     "execution_count": 9,
     "metadata": {},
     "output_type": "execute_result"
    }
   ],
   "source": [
    "# use method 'describe' to explore outliers\n",
    "Xtrain.describe([0.01,0.05,0.1,0.25,0.5,0.75,0.9,0.99]).T"
   ]
  },
  {
   "cell_type": "code",
   "execution_count": 10,
   "metadata": {},
   "outputs": [
    {
     "data": {
      "text/html": [
       "<div>\n",
       "<style scoped>\n",
       "    .dataframe tbody tr th:only-of-type {\n",
       "        vertical-align: middle;\n",
       "    }\n",
       "\n",
       "    .dataframe tbody tr th {\n",
       "        vertical-align: top;\n",
       "    }\n",
       "\n",
       "    .dataframe thead th {\n",
       "        text-align: right;\n",
       "    }\n",
       "</style>\n",
       "<table border=\"1\" class=\"dataframe\">\n",
       "  <thead>\n",
       "    <tr style=\"text-align: right;\">\n",
       "      <th></th>\n",
       "      <th>count</th>\n",
       "      <th>mean</th>\n",
       "      <th>std</th>\n",
       "      <th>min</th>\n",
       "      <th>1%</th>\n",
       "      <th>5%</th>\n",
       "      <th>10%</th>\n",
       "      <th>25%</th>\n",
       "      <th>50%</th>\n",
       "      <th>75%</th>\n",
       "      <th>90%</th>\n",
       "      <th>99%</th>\n",
       "      <th>max</th>\n",
       "    </tr>\n",
       "  </thead>\n",
       "  <tbody>\n",
       "    <tr>\n",
       "      <th>MinTemp</th>\n",
       "      <td>1493.0</td>\n",
       "      <td>11.916812</td>\n",
       "      <td>6.375377</td>\n",
       "      <td>-8.5</td>\n",
       "      <td>-2.024</td>\n",
       "      <td>1.600</td>\n",
       "      <td>3.70</td>\n",
       "      <td>7.3</td>\n",
       "      <td>11.8</td>\n",
       "      <td>16.5</td>\n",
       "      <td>20.48</td>\n",
       "      <td>25.316</td>\n",
       "      <td>28.3</td>\n",
       "    </tr>\n",
       "    <tr>\n",
       "      <th>MaxTemp</th>\n",
       "      <td>1498.0</td>\n",
       "      <td>22.906809</td>\n",
       "      <td>6.986043</td>\n",
       "      <td>-0.8</td>\n",
       "      <td>9.134</td>\n",
       "      <td>13.000</td>\n",
       "      <td>14.50</td>\n",
       "      <td>17.8</td>\n",
       "      <td>22.4</td>\n",
       "      <td>27.8</td>\n",
       "      <td>32.60</td>\n",
       "      <td>38.303</td>\n",
       "      <td>45.1</td>\n",
       "    </tr>\n",
       "    <tr>\n",
       "      <th>Rainfall</th>\n",
       "      <td>1483.0</td>\n",
       "      <td>2.241807</td>\n",
       "      <td>7.988822</td>\n",
       "      <td>0.0</td>\n",
       "      <td>0.000</td>\n",
       "      <td>0.000</td>\n",
       "      <td>0.00</td>\n",
       "      <td>0.0</td>\n",
       "      <td>0.0</td>\n",
       "      <td>0.8</td>\n",
       "      <td>5.20</td>\n",
       "      <td>35.372</td>\n",
       "      <td>108.2</td>\n",
       "    </tr>\n",
       "    <tr>\n",
       "      <th>Evaporation</th>\n",
       "      <td>858.0</td>\n",
       "      <td>5.657809</td>\n",
       "      <td>4.105762</td>\n",
       "      <td>0.0</td>\n",
       "      <td>0.400</td>\n",
       "      <td>1.000</td>\n",
       "      <td>1.60</td>\n",
       "      <td>2.8</td>\n",
       "      <td>4.8</td>\n",
       "      <td>7.6</td>\n",
       "      <td>10.40</td>\n",
       "      <td>19.458</td>\n",
       "      <td>38.8</td>\n",
       "    </tr>\n",
       "    <tr>\n",
       "      <th>Sunshine</th>\n",
       "      <td>781.0</td>\n",
       "      <td>7.677465</td>\n",
       "      <td>3.862294</td>\n",
       "      <td>0.0</td>\n",
       "      <td>0.000</td>\n",
       "      <td>0.300</td>\n",
       "      <td>1.50</td>\n",
       "      <td>4.7</td>\n",
       "      <td>8.6</td>\n",
       "      <td>10.7</td>\n",
       "      <td>12.20</td>\n",
       "      <td>13.400</td>\n",
       "      <td>13.9</td>\n",
       "    </tr>\n",
       "    <tr>\n",
       "      <th>WindGustSpeed</th>\n",
       "      <td>1406.0</td>\n",
       "      <td>40.044097</td>\n",
       "      <td>14.027052</td>\n",
       "      <td>9.0</td>\n",
       "      <td>15.000</td>\n",
       "      <td>20.000</td>\n",
       "      <td>24.00</td>\n",
       "      <td>30.0</td>\n",
       "      <td>39.0</td>\n",
       "      <td>48.0</td>\n",
       "      <td>57.00</td>\n",
       "      <td>78.000</td>\n",
       "      <td>122.0</td>\n",
       "    </tr>\n",
       "    <tr>\n",
       "      <th>WindSpeed9am</th>\n",
       "      <td>1483.0</td>\n",
       "      <td>13.986514</td>\n",
       "      <td>9.124337</td>\n",
       "      <td>0.0</td>\n",
       "      <td>0.000</td>\n",
       "      <td>0.000</td>\n",
       "      <td>4.00</td>\n",
       "      <td>7.0</td>\n",
       "      <td>13.0</td>\n",
       "      <td>20.0</td>\n",
       "      <td>26.00</td>\n",
       "      <td>39.360</td>\n",
       "      <td>72.0</td>\n",
       "    </tr>\n",
       "    <tr>\n",
       "      <th>WindSpeed3pm</th>\n",
       "      <td>1482.0</td>\n",
       "      <td>18.601215</td>\n",
       "      <td>8.850446</td>\n",
       "      <td>0.0</td>\n",
       "      <td>2.000</td>\n",
       "      <td>6.000</td>\n",
       "      <td>7.00</td>\n",
       "      <td>13.0</td>\n",
       "      <td>19.0</td>\n",
       "      <td>24.0</td>\n",
       "      <td>31.00</td>\n",
       "      <td>43.000</td>\n",
       "      <td>56.0</td>\n",
       "    </tr>\n",
       "    <tr>\n",
       "      <th>Humidity9am</th>\n",
       "      <td>1477.0</td>\n",
       "      <td>68.688558</td>\n",
       "      <td>18.876448</td>\n",
       "      <td>4.0</td>\n",
       "      <td>20.000</td>\n",
       "      <td>36.000</td>\n",
       "      <td>44.00</td>\n",
       "      <td>57.0</td>\n",
       "      <td>69.0</td>\n",
       "      <td>82.0</td>\n",
       "      <td>95.00</td>\n",
       "      <td>100.000</td>\n",
       "      <td>100.0</td>\n",
       "    </tr>\n",
       "    <tr>\n",
       "      <th>Humidity3pm</th>\n",
       "      <td>1472.0</td>\n",
       "      <td>51.431386</td>\n",
       "      <td>20.459957</td>\n",
       "      <td>2.0</td>\n",
       "      <td>8.710</td>\n",
       "      <td>18.000</td>\n",
       "      <td>23.00</td>\n",
       "      <td>37.0</td>\n",
       "      <td>52.0</td>\n",
       "      <td>66.0</td>\n",
       "      <td>78.00</td>\n",
       "      <td>96.290</td>\n",
       "      <td>100.0</td>\n",
       "    </tr>\n",
       "    <tr>\n",
       "      <th>Pressure9am</th>\n",
       "      <td>1352.0</td>\n",
       "      <td>1017.763536</td>\n",
       "      <td>6.910275</td>\n",
       "      <td>988.5</td>\n",
       "      <td>1000.900</td>\n",
       "      <td>1006.255</td>\n",
       "      <td>1008.61</td>\n",
       "      <td>1013.2</td>\n",
       "      <td>1017.8</td>\n",
       "      <td>1022.3</td>\n",
       "      <td>1026.50</td>\n",
       "      <td>1033.449</td>\n",
       "      <td>1038.2</td>\n",
       "    </tr>\n",
       "    <tr>\n",
       "      <th>Pressure3pm</th>\n",
       "      <td>1350.0</td>\n",
       "      <td>1015.397926</td>\n",
       "      <td>6.916976</td>\n",
       "      <td>986.2</td>\n",
       "      <td>999.198</td>\n",
       "      <td>1003.900</td>\n",
       "      <td>1006.49</td>\n",
       "      <td>1010.9</td>\n",
       "      <td>1015.4</td>\n",
       "      <td>1020.0</td>\n",
       "      <td>1024.20</td>\n",
       "      <td>1031.151</td>\n",
       "      <td>1036.9</td>\n",
       "    </tr>\n",
       "    <tr>\n",
       "      <th>Cloud9am</th>\n",
       "      <td>940.0</td>\n",
       "      <td>4.494681</td>\n",
       "      <td>2.870468</td>\n",
       "      <td>0.0</td>\n",
       "      <td>0.000</td>\n",
       "      <td>0.000</td>\n",
       "      <td>1.00</td>\n",
       "      <td>1.0</td>\n",
       "      <td>5.0</td>\n",
       "      <td>7.0</td>\n",
       "      <td>8.00</td>\n",
       "      <td>8.000</td>\n",
       "      <td>8.0</td>\n",
       "    </tr>\n",
       "    <tr>\n",
       "      <th>Cloud3pm</th>\n",
       "      <td>917.0</td>\n",
       "      <td>4.403490</td>\n",
       "      <td>2.731969</td>\n",
       "      <td>0.0</td>\n",
       "      <td>0.000</td>\n",
       "      <td>0.000</td>\n",
       "      <td>1.00</td>\n",
       "      <td>2.0</td>\n",
       "      <td>5.0</td>\n",
       "      <td>7.0</td>\n",
       "      <td>8.00</td>\n",
       "      <td>8.000</td>\n",
       "      <td>8.0</td>\n",
       "    </tr>\n",
       "    <tr>\n",
       "      <th>Temp9am</th>\n",
       "      <td>1486.0</td>\n",
       "      <td>16.751817</td>\n",
       "      <td>6.339816</td>\n",
       "      <td>-5.3</td>\n",
       "      <td>2.370</td>\n",
       "      <td>6.725</td>\n",
       "      <td>9.00</td>\n",
       "      <td>12.1</td>\n",
       "      <td>16.5</td>\n",
       "      <td>21.3</td>\n",
       "      <td>25.45</td>\n",
       "      <td>30.200</td>\n",
       "      <td>35.1</td>\n",
       "    </tr>\n",
       "    <tr>\n",
       "      <th>Temp3pm</th>\n",
       "      <td>1481.0</td>\n",
       "      <td>21.483660</td>\n",
       "      <td>6.770567</td>\n",
       "      <td>-1.2</td>\n",
       "      <td>8.540</td>\n",
       "      <td>11.800</td>\n",
       "      <td>13.30</td>\n",
       "      <td>16.5</td>\n",
       "      <td>20.9</td>\n",
       "      <td>26.2</td>\n",
       "      <td>30.90</td>\n",
       "      <td>37.400</td>\n",
       "      <td>42.9</td>\n",
       "    </tr>\n",
       "  </tbody>\n",
       "</table>\n",
       "</div>"
      ],
      "text/plain": [
       "                count         mean        std    min        1%        5%  \\\n",
       "MinTemp        1493.0    11.916812   6.375377   -8.5    -2.024     1.600   \n",
       "MaxTemp        1498.0    22.906809   6.986043   -0.8     9.134    13.000   \n",
       "Rainfall       1483.0     2.241807   7.988822    0.0     0.000     0.000   \n",
       "Evaporation     858.0     5.657809   4.105762    0.0     0.400     1.000   \n",
       "Sunshine        781.0     7.677465   3.862294    0.0     0.000     0.300   \n",
       "WindGustSpeed  1406.0    40.044097  14.027052    9.0    15.000    20.000   \n",
       "WindSpeed9am   1483.0    13.986514   9.124337    0.0     0.000     0.000   \n",
       "WindSpeed3pm   1482.0    18.601215   8.850446    0.0     2.000     6.000   \n",
       "Humidity9am    1477.0    68.688558  18.876448    4.0    20.000    36.000   \n",
       "Humidity3pm    1472.0    51.431386  20.459957    2.0     8.710    18.000   \n",
       "Pressure9am    1352.0  1017.763536   6.910275  988.5  1000.900  1006.255   \n",
       "Pressure3pm    1350.0  1015.397926   6.916976  986.2   999.198  1003.900   \n",
       "Cloud9am        940.0     4.494681   2.870468    0.0     0.000     0.000   \n",
       "Cloud3pm        917.0     4.403490   2.731969    0.0     0.000     0.000   \n",
       "Temp9am        1486.0    16.751817   6.339816   -5.3     2.370     6.725   \n",
       "Temp3pm        1481.0    21.483660   6.770567   -1.2     8.540    11.800   \n",
       "\n",
       "                   10%     25%     50%     75%      90%       99%     max  \n",
       "MinTemp           3.70     7.3    11.8    16.5    20.48    25.316    28.3  \n",
       "MaxTemp          14.50    17.8    22.4    27.8    32.60    38.303    45.1  \n",
       "Rainfall          0.00     0.0     0.0     0.8     5.20    35.372   108.2  \n",
       "Evaporation       1.60     2.8     4.8     7.6    10.40    19.458    38.8  \n",
       "Sunshine          1.50     4.7     8.6    10.7    12.20    13.400    13.9  \n",
       "WindGustSpeed    24.00    30.0    39.0    48.0    57.00    78.000   122.0  \n",
       "WindSpeed9am      4.00     7.0    13.0    20.0    26.00    39.360    72.0  \n",
       "WindSpeed3pm      7.00    13.0    19.0    24.0    31.00    43.000    56.0  \n",
       "Humidity9am      44.00    57.0    69.0    82.0    95.00   100.000   100.0  \n",
       "Humidity3pm      23.00    37.0    52.0    66.0    78.00    96.290   100.0  \n",
       "Pressure9am    1008.61  1013.2  1017.8  1022.3  1026.50  1033.449  1038.2  \n",
       "Pressure3pm    1006.49  1010.9  1015.4  1020.0  1024.20  1031.151  1036.9  \n",
       "Cloud9am          1.00     1.0     5.0     7.0     8.00     8.000     8.0  \n",
       "Cloud3pm          1.00     2.0     5.0     7.0     8.00     8.000     8.0  \n",
       "Temp9am           9.00    12.1    16.5    21.3    25.45    30.200    35.1  \n",
       "Temp3pm          13.30    16.5    20.9    26.2    30.90    37.400    42.9  "
      ]
     },
     "execution_count": 10,
     "metadata": {},
     "output_type": "execute_result"
    }
   ],
   "source": [
    "# use method 'describe' to explore outliers\n",
    "Xtest.describe([0.01,0.05,0.1,0.25,0.5,0.75,0.9,0.99]).T"
   ]
  },
  {
   "cell_type": "markdown",
   "metadata": {},
   "source": [
    "Conclusion: No outlier in the dataset"
   ]
  },
  {
   "cell_type": "markdown",
   "metadata": {},
   "source": [
    "## Feature Engineering 1: Feature Creation-\"Rainfall\""
   ]
  },
  {
   "cell_type": "code",
   "execution_count": 11,
   "metadata": {},
   "outputs": [
    {
     "data": {
      "image/png": "[encoded data removed]",
      "text/plain": [
       "<Figure size 432x288 with 1 Axes>"
      ]
     },
     "metadata": {
      "needs_background": "light"
     },
     "output_type": "display_data"
    }
   ],
   "source": [
    "plt.hist(Xtrain.Rainfall)\n",
    "plt.show()"
   ]
  },
  {
   "cell_type": "code",
   "execution_count": 12,
   "metadata": {},
   "outputs": [
    {
     "data": {
      "text/plain": [
       "33"
      ]
     },
     "execution_count": 12,
     "metadata": {},
     "output_type": "execute_result"
    }
   ],
   "source": [
    "#33 missing values\n",
    "Xtrain[\"Rainfall\"].isnull().sum()"
   ]
  },
  {
   "cell_type": "code",
   "execution_count": 13,
   "metadata": {},
   "outputs": [],
   "source": [
    "# create a new col \"RainToday\"\n",
    "Xtrain.loc[Xtrain[\"Rainfall\"] >= 1,\"RainToday\"] = \"Yes\"\n",
    "Xtrain.loc[Xtrain[\"Rainfall\"] < 1,\"RainToday\"] = \"No\"\n",
    "Xtrain.loc[Xtrain[\"Rainfall\"] == np.nan,\"RainToday\"] = np.nan\n",
    "\n",
    "# operate similarly on test set\n",
    "Xtest.loc[Xtest[\"Rainfall\"] >= 1,\"RainToday\"] = \"Yes\"\n",
    "Xtest.loc[Xtest[\"Rainfall\"] < 1,\"RainToday\"] = \"No\"\n",
    "Xtest.loc[Xtest[\"Rainfall\"] == np.nan,\"RainToday\"] = np.nan"
   ]
  },
  {
   "cell_type": "code",
   "execution_count": 14,
   "metadata": {},
   "outputs": [
    {
     "data": {
      "text/plain": [
       "No     2642\n",
       "Yes     825\n",
       "Name: RainToday, dtype: int64"
      ]
     },
     "execution_count": 14,
     "metadata": {},
     "output_type": "execute_result"
    }
   ],
   "source": [
    "Xtrain.loc[:,\"RainToday\"].value_counts()"
   ]
  },
  {
   "cell_type": "markdown",
   "metadata": {},
   "source": [
    "## Feature Engineering 2: Feature Extraction-\"Month\""
   ]
  },
  {
   "cell_type": "code",
   "execution_count": 15,
   "metadata": {},
   "outputs": [
    {
     "data": {
      "text/plain": [
       "2141"
      ]
     },
     "execution_count": 15,
     "metadata": {},
     "output_type": "execute_result"
    }
   ],
   "source": [
    "# we cannot treat it as categorical variables because there are 2141 difference classes\n",
    "Xtrain.iloc[:,0].value_counts().count()"
   ]
  },
  {
   "cell_type": "code",
   "execution_count": 16,
   "metadata": {},
   "outputs": [],
   "source": [
    "# extract the month\n",
    "Xtrain[\"Date\"] = Xtrain[\"Date\"].apply(lambda x:int(x.split(\"-\")[1]))\n",
    "# rename the column\n",
    "Xtrain = Xtrain.rename(columns={\"Date\":\"Month\"})"
   ]
  },
  {
   "cell_type": "code",
   "execution_count": 17,
   "metadata": {},
   "outputs": [
    {
     "data": {
      "image/png": "[encoded data removed]",
      "text/plain": [
       "<Figure size 432x288 with 1 Axes>"
      ]
     },
     "metadata": {
      "needs_background": "light"
     },
     "output_type": "display_data"
    }
   ],
   "source": [
    "plt.hist(Xtrain.loc[:,\"Month\"])\n",
    "plt.show()"
   ]
  },
  {
   "cell_type": "code",
   "execution_count": 18,
   "metadata": {},
   "outputs": [],
   "source": [
    "# operate similarly on test set\n",
    "Xtest[\"Date\"] = Xtest[\"Date\"].apply(lambda x:int(x.split(\"-\")[1]))\n",
    "Xtest = Xtest.rename(columns={\"Date\":\"Month\"})"
   ]
  },
  {
   "cell_type": "markdown",
   "metadata": {},
   "source": [
    "## Feature Engineering 3: Feature Creation-\"Climate\""
   ]
  },
  {
   "cell_type": "code",
   "execution_count": 19,
   "metadata": {},
   "outputs": [
    {
     "data": {
      "text/plain": [
       "49"
      ]
     },
     "execution_count": 19,
     "metadata": {},
     "output_type": "execute_result"
    }
   ],
   "source": [
    "# 49 distinct cities in training set, too many for one-hot encoding\n",
    "Xtrain.loc[:,\"Location\"].value_counts().count()"
   ]
  },
  {
   "cell_type": "markdown",
   "metadata": {},
   "source": [
    "### web crawler"
   ]
  },
  {
   "cell_type": "code",
   "execution_count": 20,
   "metadata": {},
   "outputs": [],
   "source": [
    "# web crawler\n",
    "\n",
    "# before running this code, a list, cityname, should be predefined\n",
    "\n",
    "# import time\n",
    "# from selenium import webdriver\n",
    "# import pandas as pd\n",
    "# import numpy as np\n",
    "\n",
    "# df = pd.DataFrame(index = range(len(cityname)))\n",
    "# driver = webdriver.Chrome()\n",
    "# time0 = time.time() # tik\n",
    "\n",
    "# for num, city in enumerate(cityname):    # go through all the cities in cityname\n",
    "#     driver.get('https://google.com')    # open google first\n",
    "#     time.sleep(0.3)   # stop for 0.3 second\n",
    "#     serach_box = driver.find_element_by_name('q') # google search box\n",
    "#     search_box.send_keys('%s Australia latitude and longitude' %city)   # input this sentence in the google search box\n",
    "#     search_box.submit()     # press enter\n",
    "#     result = driver.find_element_by_xpath('//div[@class=\"Z0Lcw\"]').text  # get the result (it may vary from computer to computer)\n",
    "#     resultsplit = result.split(' ')  # split the result\n",
    "#     df.loc[num, 'City'] = city # the first col is city\n",
    "#     df.loc[num, 'Latitude'] = resultsplit[0] # latitude\n",
    "#     df.loc[num, 'Longitude'] = resultsplit[2] # longitude\n",
    "#     df.loc[num, 'Latitudedir'] = resultsplit[1] # latitude direction\n",
    "#     df.loc[num, 'Longitudedir'] = resultsplit[3] # longitude direction\n",
    "#     print('%i webcrawler successful for city %s' %(num, city))   # monitor the progress\n",
    "\n",
    "# time.sleep(1) # stop for 1 second\n",
    "# driver.quit() # close the chrome\n",
    "# print(time.time() - time0) # print the total running time"
   ]
  },
  {
   "cell_type": "markdown",
   "metadata": {},
   "source": [
    "### Display the result of Web Crawler"
   ]
  },
  {
   "cell_type": "code",
   "execution_count": 21,
   "metadata": {},
   "outputs": [],
   "source": [
    "# import the result of web crawler\n",
    "cityll = pd.read_csv(\"cityll.csv\",index_col=0)\n",
    "city_climate = pd.read_csv(\"Cityclimate.csv\")"
   ]
  },
  {
   "cell_type": "code",
   "execution_count": 22,
   "metadata": {},
   "outputs": [
    {
     "data": {
      "text/html": [
       "<div>\n",
       "<style scoped>\n",
       "    .dataframe tbody tr th:only-of-type {\n",
       "        vertical-align: middle;\n",
       "    }\n",
       "\n",
       "    .dataframe tbody tr th {\n",
       "        vertical-align: top;\n",
       "    }\n",
       "\n",
       "    .dataframe thead th {\n",
       "        text-align: right;\n",
       "    }\n",
       "</style>\n",
       "<table border=\"1\" class=\"dataframe\">\n",
       "  <thead>\n",
       "    <tr style=\"text-align: right;\">\n",
       "      <th></th>\n",
       "      <th>City</th>\n",
       "      <th>Latitude</th>\n",
       "      <th>Longitude</th>\n",
       "      <th>Latitudedir</th>\n",
       "      <th>Longitudedir</th>\n",
       "    </tr>\n",
       "  </thead>\n",
       "  <tbody>\n",
       "    <tr>\n",
       "      <th>0</th>\n",
       "      <td>Adelaide</td>\n",
       "      <td>34.9285°</td>\n",
       "      <td>138.6007°</td>\n",
       "      <td>S,</td>\n",
       "      <td>E</td>\n",
       "    </tr>\n",
       "    <tr>\n",
       "      <th>1</th>\n",
       "      <td>Albany</td>\n",
       "      <td>35.0275°</td>\n",
       "      <td>117.8840°</td>\n",
       "      <td>S,</td>\n",
       "      <td>E</td>\n",
       "    </tr>\n",
       "    <tr>\n",
       "      <th>2</th>\n",
       "      <td>Albury</td>\n",
       "      <td>36.0737°</td>\n",
       "      <td>146.9135°</td>\n",
       "      <td>S,</td>\n",
       "      <td>E</td>\n",
       "    </tr>\n",
       "    <tr>\n",
       "      <th>3</th>\n",
       "      <td>Wodonga</td>\n",
       "      <td>36.1241°</td>\n",
       "      <td>146.8818°</td>\n",
       "      <td>S,</td>\n",
       "      <td>E</td>\n",
       "    </tr>\n",
       "    <tr>\n",
       "      <th>4</th>\n",
       "      <td>AliceSprings</td>\n",
       "      <td>23.6980°</td>\n",
       "      <td>133.8807°</td>\n",
       "      <td>S,</td>\n",
       "      <td>E</td>\n",
       "    </tr>\n",
       "  </tbody>\n",
       "</table>\n",
       "</div>"
      ],
      "text/plain": [
       "           City  Latitude  Longitude Latitudedir Longitudedir\n",
       "0      Adelaide  34.9285°  138.6007°          S,            E\n",
       "1        Albany  35.0275°  117.8840°          S,            E\n",
       "2        Albury  36.0737°  146.9135°          S,            E\n",
       "3       Wodonga  36.1241°  146.8818°          S,            E\n",
       "4  AliceSprings  23.6980°  133.8807°          S,            E"
      ]
     },
     "execution_count": 22,
     "metadata": {},
     "output_type": "execute_result"
    }
   ],
   "source": [
    "# the latitude and longitude of the cities listing on the climate graph made by Australian Bureau of Meteorology\n",
    "cityll.head()"
   ]
  },
  {
   "cell_type": "code",
   "execution_count": 23,
   "metadata": {},
   "outputs": [
    {
     "data": {
      "text/html": [
       "<div>\n",
       "<style scoped>\n",
       "    .dataframe tbody tr th:only-of-type {\n",
       "        vertical-align: middle;\n",
       "    }\n",
       "\n",
       "    .dataframe tbody tr th {\n",
       "        vertical-align: top;\n",
       "    }\n",
       "\n",
       "    .dataframe thead th {\n",
       "        text-align: right;\n",
       "    }\n",
       "</style>\n",
       "<table border=\"1\" class=\"dataframe\">\n",
       "  <thead>\n",
       "    <tr style=\"text-align: right;\">\n",
       "      <th></th>\n",
       "      <th>City</th>\n",
       "      <th>Climate</th>\n",
       "    </tr>\n",
       "  </thead>\n",
       "  <tbody>\n",
       "    <tr>\n",
       "      <th>0</th>\n",
       "      <td>Adelaide</td>\n",
       "      <td>Warm temperate</td>\n",
       "    </tr>\n",
       "    <tr>\n",
       "      <th>1</th>\n",
       "      <td>Albany</td>\n",
       "      <td>Mild temperate</td>\n",
       "    </tr>\n",
       "    <tr>\n",
       "      <th>2</th>\n",
       "      <td>Albury</td>\n",
       "      <td>Hot dry summer, cool winter</td>\n",
       "    </tr>\n",
       "    <tr>\n",
       "      <th>3</th>\n",
       "      <td>Wodonga</td>\n",
       "      <td>Hot dry summer, cool winter</td>\n",
       "    </tr>\n",
       "    <tr>\n",
       "      <th>4</th>\n",
       "      <td>AliceSprings</td>\n",
       "      <td>Hot dry summer, warm winter</td>\n",
       "    </tr>\n",
       "  </tbody>\n",
       "</table>\n",
       "</div>"
      ],
      "text/plain": [
       "           City                      Climate\n",
       "0      Adelaide            Warm temperate   \n",
       "1        Albany            Mild temperate   \n",
       "2        Albury  Hot dry summer, cool winter\n",
       "3       Wodonga  Hot dry summer, cool winter\n",
       "4  AliceSprings  Hot dry summer, warm winter"
      ]
     },
     "execution_count": 23,
     "metadata": {},
     "output_type": "execute_result"
    }
   ],
   "source": [
    "# the climate of the cities made by Australian Bureau of Meteorology\n",
    "city_climate.head()"
   ]
  },
  {
   "cell_type": "markdown",
   "metadata": {},
   "source": [
    "### Combine cityll & city_climate"
   ]
  },
  {
   "cell_type": "code",
   "execution_count": 24,
   "metadata": {},
   "outputs": [
    {
     "data": {
      "text/html": [
       "<div>\n",
       "<style scoped>\n",
       "    .dataframe tbody tr th:only-of-type {\n",
       "        vertical-align: middle;\n",
       "    }\n",
       "\n",
       "    .dataframe tbody tr th {\n",
       "        vertical-align: top;\n",
       "    }\n",
       "\n",
       "    .dataframe thead th {\n",
       "        text-align: right;\n",
       "    }\n",
       "</style>\n",
       "<table border=\"1\" class=\"dataframe\">\n",
       "  <thead>\n",
       "    <tr style=\"text-align: right;\">\n",
       "      <th></th>\n",
       "      <th>City</th>\n",
       "      <th>Latitudenum</th>\n",
       "      <th>Longitudenum</th>\n",
       "    </tr>\n",
       "  </thead>\n",
       "  <tbody>\n",
       "    <tr>\n",
       "      <th>0</th>\n",
       "      <td>Adelaide</td>\n",
       "      <td>34.9285</td>\n",
       "      <td>138.6007</td>\n",
       "    </tr>\n",
       "    <tr>\n",
       "      <th>1</th>\n",
       "      <td>Albany</td>\n",
       "      <td>35.0275</td>\n",
       "      <td>117.8840</td>\n",
       "    </tr>\n",
       "    <tr>\n",
       "      <th>2</th>\n",
       "      <td>Albury</td>\n",
       "      <td>36.0737</td>\n",
       "      <td>146.9135</td>\n",
       "    </tr>\n",
       "    <tr>\n",
       "      <th>3</th>\n",
       "      <td>Wodonga</td>\n",
       "      <td>36.1241</td>\n",
       "      <td>146.8818</td>\n",
       "    </tr>\n",
       "    <tr>\n",
       "      <th>4</th>\n",
       "      <td>AliceSprings</td>\n",
       "      <td>23.6980</td>\n",
       "      <td>133.8807</td>\n",
       "    </tr>\n",
       "    <tr>\n",
       "      <th>...</th>\n",
       "      <td>...</td>\n",
       "      <td>...</td>\n",
       "      <td>...</td>\n",
       "    </tr>\n",
       "    <tr>\n",
       "      <th>95</th>\n",
       "      <td>Wollongong</td>\n",
       "      <td>34.4278</td>\n",
       "      <td>150.8931</td>\n",
       "    </tr>\n",
       "    <tr>\n",
       "      <th>96</th>\n",
       "      <td>Wyndham</td>\n",
       "      <td>15.4825</td>\n",
       "      <td>128.1228</td>\n",
       "    </tr>\n",
       "    <tr>\n",
       "      <th>97</th>\n",
       "      <td>Yalgoo</td>\n",
       "      <td>28.3445</td>\n",
       "      <td>116.6851</td>\n",
       "    </tr>\n",
       "    <tr>\n",
       "      <th>98</th>\n",
       "      <td>Yulara</td>\n",
       "      <td>25.2335</td>\n",
       "      <td>130.9849</td>\n",
       "    </tr>\n",
       "    <tr>\n",
       "      <th>99</th>\n",
       "      <td>Uluru</td>\n",
       "      <td>25.3444</td>\n",
       "      <td>131.0369</td>\n",
       "    </tr>\n",
       "  </tbody>\n",
       "</table>\n",
       "<p>100 rows × 3 columns</p>\n",
       "</div>"
      ],
      "text/plain": [
       "            City  Latitudenum  Longitudenum\n",
       "0       Adelaide      34.9285      138.6007\n",
       "1         Albany      35.0275      117.8840\n",
       "2         Albury      36.0737      146.9135\n",
       "3        Wodonga      36.1241      146.8818\n",
       "4   AliceSprings      23.6980      133.8807\n",
       "..           ...          ...           ...\n",
       "95    Wollongong      34.4278      150.8931\n",
       "96       Wyndham      15.4825      128.1228\n",
       "97        Yalgoo      28.3445      116.6851\n",
       "98        Yulara      25.2335      130.9849\n",
       "99         Uluru      25.3444      131.0369\n",
       "\n",
       "[100 rows x 3 columns]"
      ]
     },
     "execution_count": 24,
     "metadata": {},
     "output_type": "execute_result"
    }
   ],
   "source": [
    "# remove the degree sign\n",
    "cityll[\"Latitudenum\"] = cityll[\"Latitude\"].apply(lambda x:float(x[:-1]))\n",
    "cityll[\"Longitudenum\"] = cityll[\"Longitude\"].apply(lambda x:float(x[:-1]))\n",
    "# all the cities are in the Eastern Hemisphere and Southern Hemisphere\n",
    "citylld = cityll.iloc[:,[0,5,6]]\n",
    "citylld"
   ]
  },
  {
   "cell_type": "code",
   "execution_count": 25,
   "metadata": {},
   "outputs": [
    {
     "data": {
      "text/html": [
       "<div>\n",
       "<style scoped>\n",
       "    .dataframe tbody tr th:only-of-type {\n",
       "        vertical-align: middle;\n",
       "    }\n",
       "\n",
       "    .dataframe tbody tr th {\n",
       "        vertical-align: top;\n",
       "    }\n",
       "\n",
       "    .dataframe thead th {\n",
       "        text-align: right;\n",
       "    }\n",
       "</style>\n",
       "<table border=\"1\" class=\"dataframe\">\n",
       "  <thead>\n",
       "    <tr style=\"text-align: right;\">\n",
       "      <th></th>\n",
       "      <th>City</th>\n",
       "      <th>Climate</th>\n",
       "    </tr>\n",
       "  </thead>\n",
       "  <tbody>\n",
       "    <tr>\n",
       "      <th>0</th>\n",
       "      <td>Adelaide</td>\n",
       "      <td>Warm temperate</td>\n",
       "    </tr>\n",
       "    <tr>\n",
       "      <th>1</th>\n",
       "      <td>Albany</td>\n",
       "      <td>Mild temperate</td>\n",
       "    </tr>\n",
       "    <tr>\n",
       "      <th>2</th>\n",
       "      <td>Albury</td>\n",
       "      <td>Hot dry summer, cool winter</td>\n",
       "    </tr>\n",
       "    <tr>\n",
       "      <th>3</th>\n",
       "      <td>Wodonga</td>\n",
       "      <td>Hot dry summer, cool winter</td>\n",
       "    </tr>\n",
       "    <tr>\n",
       "      <th>4</th>\n",
       "      <td>AliceSprings</td>\n",
       "      <td>Hot dry summer, warm winter</td>\n",
       "    </tr>\n",
       "  </tbody>\n",
       "</table>\n",
       "</div>"
      ],
      "text/plain": [
       "           City                      Climate\n",
       "0      Adelaide            Warm temperate   \n",
       "1        Albany            Mild temperate   \n",
       "2        Albury  Hot dry summer, cool winter\n",
       "3       Wodonga  Hot dry summer, cool winter\n",
       "4  AliceSprings  Hot dry summer, warm winter"
      ]
     },
     "execution_count": 25,
     "metadata": {},
     "output_type": "execute_result"
    }
   ],
   "source": [
    "# the climate of the cities made by Australian Bureau of Meteorology\n",
    "city_climate.head()"
   ]
  },
  {
   "cell_type": "code",
   "execution_count": 26,
   "metadata": {},
   "outputs": [
    {
     "data": {
      "text/html": [
       "<div>\n",
       "<style scoped>\n",
       "    .dataframe tbody tr th:only-of-type {\n",
       "        vertical-align: middle;\n",
       "    }\n",
       "\n",
       "    .dataframe tbody tr th {\n",
       "        vertical-align: top;\n",
       "    }\n",
       "\n",
       "    .dataframe thead th {\n",
       "        text-align: right;\n",
       "    }\n",
       "</style>\n",
       "<table border=\"1\" class=\"dataframe\">\n",
       "  <thead>\n",
       "    <tr style=\"text-align: right;\">\n",
       "      <th></th>\n",
       "      <th>City</th>\n",
       "      <th>Latitudenum</th>\n",
       "      <th>Longitudenum</th>\n",
       "      <th>climate</th>\n",
       "    </tr>\n",
       "  </thead>\n",
       "  <tbody>\n",
       "    <tr>\n",
       "      <th>0</th>\n",
       "      <td>Adelaide</td>\n",
       "      <td>34.9285</td>\n",
       "      <td>138.6007</td>\n",
       "      <td>Warm temperate</td>\n",
       "    </tr>\n",
       "    <tr>\n",
       "      <th>1</th>\n",
       "      <td>Albany</td>\n",
       "      <td>35.0275</td>\n",
       "      <td>117.8840</td>\n",
       "      <td>Mild temperate</td>\n",
       "    </tr>\n",
       "    <tr>\n",
       "      <th>2</th>\n",
       "      <td>Albury</td>\n",
       "      <td>36.0737</td>\n",
       "      <td>146.9135</td>\n",
       "      <td>Hot dry summer, cool winter</td>\n",
       "    </tr>\n",
       "    <tr>\n",
       "      <th>3</th>\n",
       "      <td>Wodonga</td>\n",
       "      <td>36.1241</td>\n",
       "      <td>146.8818</td>\n",
       "      <td>Hot dry summer, cool winter</td>\n",
       "    </tr>\n",
       "    <tr>\n",
       "      <th>4</th>\n",
       "      <td>AliceSprings</td>\n",
       "      <td>23.6980</td>\n",
       "      <td>133.8807</td>\n",
       "      <td>Hot dry summer, warm winter</td>\n",
       "    </tr>\n",
       "  </tbody>\n",
       "</table>\n",
       "</div>"
      ],
      "text/plain": [
       "           City  Latitudenum  Longitudenum                      climate\n",
       "0      Adelaide      34.9285      138.6007            Warm temperate   \n",
       "1        Albany      35.0275      117.8840            Mild temperate   \n",
       "2        Albury      36.0737      146.9135  Hot dry summer, cool winter\n",
       "3       Wodonga      36.1241      146.8818  Hot dry summer, cool winter\n",
       "4  AliceSprings      23.6980      133.8807  Hot dry summer, warm winter"
      ]
     },
     "execution_count": 26,
     "metadata": {},
     "output_type": "execute_result"
    }
   ],
   "source": [
    "# add column \"climate\" to citylld\n",
    "citylld[\"climate\"] = city_climate.iloc[:,-1]\n",
    "citylld.head()"
   ]
  },
  {
   "cell_type": "markdown",
   "metadata": {},
   "source": [
    "### Calculate the climate of cities in training/testing set (sampelecities)"
   ]
  },
  {
   "cell_type": "code",
   "execution_count": 27,
   "metadata": {},
   "outputs": [
    {
     "data": {
      "text/html": [
       "<div>\n",
       "<style scoped>\n",
       "    .dataframe tbody tr th:only-of-type {\n",
       "        vertical-align: middle;\n",
       "    }\n",
       "\n",
       "    .dataframe tbody tr th {\n",
       "        vertical-align: top;\n",
       "    }\n",
       "\n",
       "    .dataframe thead th {\n",
       "        text-align: right;\n",
       "    }\n",
       "</style>\n",
       "<table border=\"1\" class=\"dataframe\">\n",
       "  <thead>\n",
       "    <tr style=\"text-align: right;\">\n",
       "      <th></th>\n",
       "      <th>City</th>\n",
       "      <th>Latitude</th>\n",
       "      <th>Longitude</th>\n",
       "      <th>Latitudedir</th>\n",
       "      <th>Longitudedir</th>\n",
       "    </tr>\n",
       "  </thead>\n",
       "  <tbody>\n",
       "    <tr>\n",
       "      <th>0</th>\n",
       "      <td>Canberra</td>\n",
       "      <td>35.2809°</td>\n",
       "      <td>149.1300°</td>\n",
       "      <td>S,</td>\n",
       "      <td>E</td>\n",
       "    </tr>\n",
       "    <tr>\n",
       "      <th>1</th>\n",
       "      <td>Sydney</td>\n",
       "      <td>33.8688°</td>\n",
       "      <td>151.2093°</td>\n",
       "      <td>S,</td>\n",
       "      <td>E</td>\n",
       "    </tr>\n",
       "    <tr>\n",
       "      <th>2</th>\n",
       "      <td>Perth</td>\n",
       "      <td>31.9505°</td>\n",
       "      <td>115.8605°</td>\n",
       "      <td>S,</td>\n",
       "      <td>E</td>\n",
       "    </tr>\n",
       "    <tr>\n",
       "      <th>3</th>\n",
       "      <td>Darwin</td>\n",
       "      <td>12.4634°</td>\n",
       "      <td>130.8456°</td>\n",
       "      <td>S,</td>\n",
       "      <td>E</td>\n",
       "    </tr>\n",
       "    <tr>\n",
       "      <th>4</th>\n",
       "      <td>Hobart</td>\n",
       "      <td>42.8821°</td>\n",
       "      <td>147.3272°</td>\n",
       "      <td>S,</td>\n",
       "      <td>E</td>\n",
       "    </tr>\n",
       "  </tbody>\n",
       "</table>\n",
       "</div>"
      ],
      "text/plain": [
       "       City  Latitude  Longitude Latitudedir Longitudedir\n",
       "0  Canberra  35.2809°  149.1300°          S,            E\n",
       "1    Sydney  33.8688°  151.2093°          S,            E\n",
       "2     Perth  31.9505°  115.8605°          S,            E\n",
       "3    Darwin  12.4634°  130.8456°          S,            E\n",
       "4    Hobart  42.8821°  147.3272°          S,            E"
      ]
     },
     "execution_count": 27,
     "metadata": {},
     "output_type": "execute_result"
    }
   ],
   "source": [
    "# samplecity stores the latitude and longitude of cities listed in the training/testing set\n",
    "samplecity = pd.read_csv(\"samplecity.csv\",index_col=0)\n",
    "samplecity.head()"
   ]
  },
  {
   "cell_type": "code",
   "execution_count": 28,
   "metadata": {},
   "outputs": [
    {
     "data": {
      "text/html": [
       "<div>\n",
       "<style scoped>\n",
       "    .dataframe tbody tr th:only-of-type {\n",
       "        vertical-align: middle;\n",
       "    }\n",
       "\n",
       "    .dataframe tbody tr th {\n",
       "        vertical-align: top;\n",
       "    }\n",
       "\n",
       "    .dataframe thead th {\n",
       "        text-align: right;\n",
       "    }\n",
       "</style>\n",
       "<table border=\"1\" class=\"dataframe\">\n",
       "  <thead>\n",
       "    <tr style=\"text-align: right;\">\n",
       "      <th></th>\n",
       "      <th>City</th>\n",
       "      <th>Latitudenum</th>\n",
       "      <th>Longitudenum</th>\n",
       "    </tr>\n",
       "  </thead>\n",
       "  <tbody>\n",
       "    <tr>\n",
       "      <th>0</th>\n",
       "      <td>Canberra</td>\n",
       "      <td>35.2809</td>\n",
       "      <td>149.1300</td>\n",
       "    </tr>\n",
       "    <tr>\n",
       "      <th>1</th>\n",
       "      <td>Sydney</td>\n",
       "      <td>33.8688</td>\n",
       "      <td>151.2093</td>\n",
       "    </tr>\n",
       "    <tr>\n",
       "      <th>2</th>\n",
       "      <td>Perth</td>\n",
       "      <td>31.9505</td>\n",
       "      <td>115.8605</td>\n",
       "    </tr>\n",
       "    <tr>\n",
       "      <th>3</th>\n",
       "      <td>Darwin</td>\n",
       "      <td>12.4634</td>\n",
       "      <td>130.8456</td>\n",
       "    </tr>\n",
       "    <tr>\n",
       "      <th>4</th>\n",
       "      <td>Hobart</td>\n",
       "      <td>42.8821</td>\n",
       "      <td>147.3272</td>\n",
       "    </tr>\n",
       "  </tbody>\n",
       "</table>\n",
       "</div>"
      ],
      "text/plain": [
       "       City  Latitudenum  Longitudenum\n",
       "0  Canberra      35.2809      149.1300\n",
       "1    Sydney      33.8688      151.2093\n",
       "2     Perth      31.9505      115.8605\n",
       "3    Darwin      12.4634      130.8456\n",
       "4    Hobart      42.8821      147.3272"
      ]
     },
     "execution_count": 28,
     "metadata": {},
     "output_type": "execute_result"
    }
   ],
   "source": [
    "# operate it similarly\n",
    "samplecity[\"Latitudenum\"] = samplecity[\"Latitude\"].apply(lambda x:float(x[:-1]))\n",
    "samplecity[\"Longitudenum\"] = samplecity[\"Longitude\"].apply(lambda x:float(x[:-1]))\n",
    "samplecityd = samplecity.iloc[:,[0,5,6]]\n",
    "samplecityd.head()"
   ]
  },
  {
   "cell_type": "code",
   "execution_count": 29,
   "metadata": {},
   "outputs": [],
   "source": [
    "# calulate the distance\n",
    "# convert the angle to radian\n",
    "from math import radians, sin, cos, acos\n",
    "citylld.loc[:,\"slat\"] = citylld.iloc[:,1].apply(lambda x : radians(x))\n",
    "citylld.loc[:,\"slon\"] = citylld.iloc[:,2].apply(lambda x : radians(x))\n",
    "samplecityd.loc[:,\"elat\"] = samplecityd.iloc[:,1].apply(lambda x : radians(x))\n",
    "samplecityd.loc[:,\"elon\"] = samplecityd.iloc[:,2].apply(lambda x : radians(x))\n",
    "\n",
    "# add the climate of sample cities\n",
    "import sys\n",
    "for i in range(samplecityd.shape[0]):\n",
    "    slat = citylld.loc[:,\"slat\"]\n",
    "    slon = citylld.loc[:,\"slon\"]\n",
    "    elat = samplecityd.loc[i,\"elat\"]\n",
    "    elon = samplecityd.loc[i,\"elon\"]\n",
    "    dist = 6371.01 * np.arccos(np.sin(slat)*np.sin(elat) + \n",
    "                          np.cos(slat)*np.cos(elat)*np.cos(slon.values - elon))\n",
    "    city_index = np.argsort(dist)[0]\n",
    "    # use the climate of the nearest city as its climate\n",
    "    samplecityd.loc[i,\"closest_city\"] = citylld.loc[city_index,\"City\"]\n",
    "    samplecityd.loc[i,\"climate\"] = citylld.loc[city_index,\"climate\"]"
   ]
  },
  {
   "cell_type": "code",
   "execution_count": 30,
   "metadata": {},
   "outputs": [
    {
     "data": {
      "text/html": [
       "<div>\n",
       "<style scoped>\n",
       "    .dataframe tbody tr th:only-of-type {\n",
       "        vertical-align: middle;\n",
       "    }\n",
       "\n",
       "    .dataframe tbody tr th {\n",
       "        vertical-align: top;\n",
       "    }\n",
       "\n",
       "    .dataframe thead th {\n",
       "        text-align: right;\n",
       "    }\n",
       "</style>\n",
       "<table border=\"1\" class=\"dataframe\">\n",
       "  <thead>\n",
       "    <tr style=\"text-align: right;\">\n",
       "      <th></th>\n",
       "      <th>City</th>\n",
       "      <th>Latitudenum</th>\n",
       "      <th>Longitudenum</th>\n",
       "      <th>elat</th>\n",
       "      <th>elon</th>\n",
       "      <th>closest_city</th>\n",
       "      <th>climate</th>\n",
       "    </tr>\n",
       "  </thead>\n",
       "  <tbody>\n",
       "    <tr>\n",
       "      <th>0</th>\n",
       "      <td>Canberra</td>\n",
       "      <td>35.2809</td>\n",
       "      <td>149.1300</td>\n",
       "      <td>0.615768</td>\n",
       "      <td>2.602810</td>\n",
       "      <td>Canberra</td>\n",
       "      <td>Cool temperate</td>\n",
       "    </tr>\n",
       "    <tr>\n",
       "      <th>1</th>\n",
       "      <td>Sydney</td>\n",
       "      <td>33.8688</td>\n",
       "      <td>151.2093</td>\n",
       "      <td>0.591122</td>\n",
       "      <td>2.639100</td>\n",
       "      <td>Sydney</td>\n",
       "      <td>Warm temperate</td>\n",
       "    </tr>\n",
       "    <tr>\n",
       "      <th>2</th>\n",
       "      <td>Perth</td>\n",
       "      <td>31.9505</td>\n",
       "      <td>115.8605</td>\n",
       "      <td>0.557641</td>\n",
       "      <td>2.022147</td>\n",
       "      <td>Perth</td>\n",
       "      <td>Warm temperate</td>\n",
       "    </tr>\n",
       "    <tr>\n",
       "      <th>3</th>\n",
       "      <td>Darwin</td>\n",
       "      <td>12.4634</td>\n",
       "      <td>130.8456</td>\n",
       "      <td>0.217527</td>\n",
       "      <td>2.283687</td>\n",
       "      <td>Darwin</td>\n",
       "      <td>High humidity summer, warm winter</td>\n",
       "    </tr>\n",
       "    <tr>\n",
       "      <th>4</th>\n",
       "      <td>Hobart</td>\n",
       "      <td>42.8821</td>\n",
       "      <td>147.3272</td>\n",
       "      <td>0.748434</td>\n",
       "      <td>2.571345</td>\n",
       "      <td>Hobart</td>\n",
       "      <td>Cool temperate</td>\n",
       "    </tr>\n",
       "  </tbody>\n",
       "</table>\n",
       "</div>"
      ],
      "text/plain": [
       "       City  Latitudenum  Longitudenum      elat      elon closest_city  \\\n",
       "0  Canberra      35.2809      149.1300  0.615768  2.602810     Canberra   \n",
       "1    Sydney      33.8688      151.2093  0.591122  2.639100       Sydney   \n",
       "2     Perth      31.9505      115.8605  0.557641  2.022147        Perth   \n",
       "3    Darwin      12.4634      130.8456  0.217527  2.283687       Darwin   \n",
       "4    Hobart      42.8821      147.3272  0.748434  2.571345       Hobart   \n",
       "\n",
       "                             climate  \n",
       "0                  Cool temperate     \n",
       "1                  Warm temperate     \n",
       "2                  Warm temperate     \n",
       "3  High humidity summer, warm winter  \n",
       "4                  Cool temperate     "
      ]
     },
     "execution_count": 30,
     "metadata": {},
     "output_type": "execute_result"
    }
   ],
   "source": [
    "samplecityd.head(5)"
   ]
  },
  {
   "cell_type": "code",
   "execution_count": 31,
   "metadata": {},
   "outputs": [
    {
     "data": {
      "text/html": [
       "<div>\n",
       "<style scoped>\n",
       "    .dataframe tbody tr th:only-of-type {\n",
       "        vertical-align: middle;\n",
       "    }\n",
       "\n",
       "    .dataframe tbody tr th {\n",
       "        vertical-align: top;\n",
       "    }\n",
       "\n",
       "    .dataframe thead th {\n",
       "        text-align: right;\n",
       "    }\n",
       "</style>\n",
       "<table border=\"1\" class=\"dataframe\">\n",
       "  <thead>\n",
       "    <tr style=\"text-align: right;\">\n",
       "      <th></th>\n",
       "      <th>Climate</th>\n",
       "    </tr>\n",
       "    <tr>\n",
       "      <th>Location</th>\n",
       "      <th></th>\n",
       "    </tr>\n",
       "  </thead>\n",
       "  <tbody>\n",
       "    <tr>\n",
       "      <th>Canberra</th>\n",
       "      <td>Cool temperate</td>\n",
       "    </tr>\n",
       "    <tr>\n",
       "      <th>Sydney</th>\n",
       "      <td>Warm temperate</td>\n",
       "    </tr>\n",
       "    <tr>\n",
       "      <th>Perth</th>\n",
       "      <td>Warm temperate</td>\n",
       "    </tr>\n",
       "    <tr>\n",
       "      <th>Darwin</th>\n",
       "      <td>High humidity summer, warm winter</td>\n",
       "    </tr>\n",
       "    <tr>\n",
       "      <th>Hobart</th>\n",
       "      <td>Cool temperate</td>\n",
       "    </tr>\n",
       "  </tbody>\n",
       "</table>\n",
       "</div>"
      ],
      "text/plain": [
       "                                    Climate\n",
       "Location                                   \n",
       "Canberra                  Cool temperate   \n",
       "Sydney                    Warm temperate   \n",
       "Perth                     Warm temperate   \n",
       "Darwin    High humidity summer, warm winter\n",
       "Hobart                    Cool temperate   "
      ]
     },
     "execution_count": 31,
     "metadata": {},
     "output_type": "execute_result"
    }
   ],
   "source": [
    "# solidify the result in a new dataframe\n",
    "locafinal = samplecityd.iloc[:,[0,-1]]\n",
    "locafinal.columns = [\"Location\",\"Climate\"]\n",
    "locafinal = locafinal.set_index(keys=\"Location\")   # set location as its index\n",
    "locafinal.head()"
   ]
  },
  {
   "cell_type": "code",
   "execution_count": 32,
   "metadata": {},
   "outputs": [],
   "source": [
    "# save it\n",
    "locafinal.to_csv(\"samplelocation.csv\")"
   ]
  },
  {
   "cell_type": "markdown",
   "metadata": {},
   "source": [
    "### Replace \"location\" with \"Climate\""
   ]
  },
  {
   "cell_type": "code",
   "execution_count": 33,
   "metadata": {},
   "outputs": [],
   "source": [
    "# use the climate to represent the specific location because the distinct number of climate is much fewer than locations\n",
    "\n",
    "import re\n",
    "\n",
    "#replace location with climate, and then regulize the string\n",
    "Xtrain[\"Location\"] = Xtrain[\"Location\"].map(locafinal.iloc[:,0]).apply(lambda x:re.sub(\",\",\"\",x.strip()))\n",
    "Xtest[\"Location\"] = Xtest[\"Location\"].map(locafinal.iloc[:,0]).apply(lambda x:re.sub(\",\",\"\",x.strip()))\n",
    "\n",
    "# rename\n",
    "Xtrain = Xtrain.rename(columns={\"Location\":\"Climate\"})\n",
    "Xtest = Xtest.rename(columns={\"Location\":\"Climate\"})"
   ]
  },
  {
   "cell_type": "code",
   "execution_count": 34,
   "metadata": {},
   "outputs": [
    {
     "data": {
      "text/html": [
       "<div>\n",
       "<style scoped>\n",
       "    .dataframe tbody tr th:only-of-type {\n",
       "        vertical-align: middle;\n",
       "    }\n",
       "\n",
       "    .dataframe tbody tr th {\n",
       "        vertical-align: top;\n",
       "    }\n",
       "\n",
       "    .dataframe thead th {\n",
       "        text-align: right;\n",
       "    }\n",
       "</style>\n",
       "<table border=\"1\" class=\"dataframe\">\n",
       "  <thead>\n",
       "    <tr style=\"text-align: right;\">\n",
       "      <th></th>\n",
       "      <th>Month</th>\n",
       "      <th>Climate</th>\n",
       "      <th>MinTemp</th>\n",
       "      <th>MaxTemp</th>\n",
       "      <th>Rainfall</th>\n",
       "      <th>Evaporation</th>\n",
       "      <th>Sunshine</th>\n",
       "      <th>WindGustDir</th>\n",
       "      <th>WindGustSpeed</th>\n",
       "      <th>WindDir9am</th>\n",
       "      <th>...</th>\n",
       "      <th>WindSpeed3pm</th>\n",
       "      <th>Humidity9am</th>\n",
       "      <th>Humidity3pm</th>\n",
       "      <th>Pressure9am</th>\n",
       "      <th>Pressure3pm</th>\n",
       "      <th>Cloud9am</th>\n",
       "      <th>Cloud3pm</th>\n",
       "      <th>Temp9am</th>\n",
       "      <th>Temp3pm</th>\n",
       "      <th>RainToday</th>\n",
       "    </tr>\n",
       "  </thead>\n",
       "  <tbody>\n",
       "    <tr>\n",
       "      <th>0</th>\n",
       "      <td>8</td>\n",
       "      <td>High humidity summer warm winter</td>\n",
       "      <td>17.5</td>\n",
       "      <td>36.0</td>\n",
       "      <td>0.0</td>\n",
       "      <td>8.8</td>\n",
       "      <td>NaN</td>\n",
       "      <td>ESE</td>\n",
       "      <td>26.0</td>\n",
       "      <td>NNW</td>\n",
       "      <td>...</td>\n",
       "      <td>15.0</td>\n",
       "      <td>57.0</td>\n",
       "      <td>NaN</td>\n",
       "      <td>1016.8</td>\n",
       "      <td>1012.2</td>\n",
       "      <td>0.0</td>\n",
       "      <td>NaN</td>\n",
       "      <td>27.5</td>\n",
       "      <td>NaN</td>\n",
       "      <td>No</td>\n",
       "    </tr>\n",
       "    <tr>\n",
       "      <th>1</th>\n",
       "      <td>12</td>\n",
       "      <td>Cool temperate</td>\n",
       "      <td>9.5</td>\n",
       "      <td>25.0</td>\n",
       "      <td>0.0</td>\n",
       "      <td>NaN</td>\n",
       "      <td>NaN</td>\n",
       "      <td>NNW</td>\n",
       "      <td>33.0</td>\n",
       "      <td>NE</td>\n",
       "      <td>...</td>\n",
       "      <td>17.0</td>\n",
       "      <td>59.0</td>\n",
       "      <td>31.0</td>\n",
       "      <td>1020.4</td>\n",
       "      <td>1017.5</td>\n",
       "      <td>NaN</td>\n",
       "      <td>NaN</td>\n",
       "      <td>14.6</td>\n",
       "      <td>23.6</td>\n",
       "      <td>No</td>\n",
       "    </tr>\n",
       "    <tr>\n",
       "      <th>2</th>\n",
       "      <td>4</td>\n",
       "      <td>Mild temperate</td>\n",
       "      <td>13.0</td>\n",
       "      <td>22.6</td>\n",
       "      <td>0.0</td>\n",
       "      <td>3.8</td>\n",
       "      <td>10.4</td>\n",
       "      <td>NaN</td>\n",
       "      <td>NaN</td>\n",
       "      <td>NE</td>\n",
       "      <td>...</td>\n",
       "      <td>31.0</td>\n",
       "      <td>79.0</td>\n",
       "      <td>68.0</td>\n",
       "      <td>1020.3</td>\n",
       "      <td>1015.7</td>\n",
       "      <td>1.0</td>\n",
       "      <td>3.0</td>\n",
       "      <td>17.5</td>\n",
       "      <td>20.8</td>\n",
       "      <td>No</td>\n",
       "    </tr>\n",
       "  </tbody>\n",
       "</table>\n",
       "<p>3 rows × 22 columns</p>\n",
       "</div>"
      ],
      "text/plain": [
       "   Month                           Climate  MinTemp  MaxTemp  Rainfall  \\\n",
       "0      8  High humidity summer warm winter     17.5     36.0       0.0   \n",
       "1     12                    Cool temperate      9.5     25.0       0.0   \n",
       "2      4                    Mild temperate     13.0     22.6       0.0   \n",
       "\n",
       "   Evaporation  Sunshine WindGustDir  WindGustSpeed WindDir9am  ...  \\\n",
       "0          8.8       NaN         ESE           26.0        NNW  ...   \n",
       "1          NaN       NaN         NNW           33.0         NE  ...   \n",
       "2          3.8      10.4         NaN            NaN         NE  ...   \n",
       "\n",
       "  WindSpeed3pm  Humidity9am  Humidity3pm  Pressure9am  Pressure3pm  Cloud9am  \\\n",
       "0         15.0         57.0          NaN       1016.8       1012.2       0.0   \n",
       "1         17.0         59.0         31.0       1020.4       1017.5       NaN   \n",
       "2         31.0         79.0         68.0       1020.3       1015.7       1.0   \n",
       "\n",
       "   Cloud3pm  Temp9am  Temp3pm  RainToday  \n",
       "0       NaN     27.5      NaN         No  \n",
       "1       NaN     14.6     23.6         No  \n",
       "2       3.0     17.5     20.8         No  \n",
       "\n",
       "[3 rows x 22 columns]"
      ]
     },
     "execution_count": 34,
     "metadata": {},
     "output_type": "execute_result"
    }
   ],
   "source": [
    "Xtrain.head(3)"
   ]
  },
  {
   "cell_type": "markdown",
   "metadata": {},
   "source": [
    "## Preprocessing 2: Missing Values"
   ]
  },
  {
   "cell_type": "code",
   "execution_count": 35,
   "metadata": {},
   "outputs": [
    {
     "data": {
      "text/plain": [
       "Month            0.000000\n",
       "Climate          0.000000\n",
       "MinTemp          0.004000\n",
       "MaxTemp          0.003143\n",
       "Rainfall         0.009429\n",
       "Evaporation      0.433429\n",
       "Sunshine         0.488571\n",
       "WindGustDir      0.067714\n",
       "WindGustSpeed    0.067714\n",
       "WindDir9am       0.067429\n",
       "WindDir3pm       0.024286\n",
       "WindSpeed9am     0.009714\n",
       "WindSpeed3pm     0.018000\n",
       "Humidity9am      0.011714\n",
       "Humidity3pm      0.026286\n",
       "Pressure9am      0.098857\n",
       "Pressure3pm      0.098857\n",
       "Cloud9am         0.379714\n",
       "Cloud3pm         0.401429\n",
       "Temp9am          0.005429\n",
       "Temp3pm          0.019714\n",
       "RainToday        0.009429\n",
       "dtype: float64"
      ]
     },
     "execution_count": 35,
     "metadata": {},
     "output_type": "execute_result"
    }
   ],
   "source": [
    "# look up for the missing values\n",
    "Xtrain.isnull().mean()"
   ]
  },
  {
   "cell_type": "code",
   "execution_count": 36,
   "metadata": {},
   "outputs": [
    {
     "name": "stdout",
     "output_type": "stream",
     "text": [
      "<class 'pandas.core.frame.DataFrame'>\n",
      "RangeIndex: 3500 entries, 0 to 3499\n",
      "Data columns (total 22 columns):\n",
      " #   Column         Non-Null Count  Dtype  \n",
      "---  ------         --------------  -----  \n",
      " 0   Month          3500 non-null   int64  \n",
      " 1   Climate        3500 non-null   object \n",
      " 2   MinTemp        3486 non-null   float64\n",
      " 3   MaxTemp        3489 non-null   float64\n",
      " 4   Rainfall       3467 non-null   float64\n",
      " 5   Evaporation    1983 non-null   float64\n",
      " 6   Sunshine       1790 non-null   float64\n",
      " 7   WindGustDir    3263 non-null   object \n",
      " 8   WindGustSpeed  3263 non-null   float64\n",
      " 9   WindDir9am     3264 non-null   object \n",
      " 10  WindDir3pm     3415 non-null   object \n",
      " 11  WindSpeed9am   3466 non-null   float64\n",
      " 12  WindSpeed3pm   3437 non-null   float64\n",
      " 13  Humidity9am    3459 non-null   float64\n",
      " 14  Humidity3pm    3408 non-null   float64\n",
      " 15  Pressure9am    3154 non-null   float64\n",
      " 16  Pressure3pm    3154 non-null   float64\n",
      " 17  Cloud9am       2171 non-null   float64\n",
      " 18  Cloud3pm       2095 non-null   float64\n",
      " 19  Temp9am        3481 non-null   float64\n",
      " 20  Temp3pm        3431 non-null   float64\n",
      " 21  RainToday      3467 non-null   object \n",
      "dtypes: float64(16), int64(1), object(5)\n",
      "memory usage: 601.7+ KB\n"
     ]
    }
   ],
   "source": [
    "Xtrain.info()"
   ]
  },
  {
   "cell_type": "markdown",
   "metadata": {},
   "source": [
    "## Preprocessing 2.1: Missing Values in Categorical Variables"
   ]
  },
  {
   "cell_type": "code",
   "execution_count": 37,
   "metadata": {},
   "outputs": [],
   "source": [
    "# missing values in categorical variables\n",
    "cate = Xtrain.columns[Xtrain.dtypes == \"object\"].tolist()\n",
    "#\"Cloud9am\",\"Cloud3pm\" is also categorical variable indeed because it only takes integer 0-8 to represent the cloud\n",
    "cloud = [\"Cloud9am\",\"Cloud3pm\"]\n",
    "cate = cate + cloud\n",
    "\n",
    "# use mode to fill in the missing values on categorical variables\n",
    "from sklearn.impute import SimpleImputer\n",
    "\n",
    "si = SimpleImputer(missing_values=np.nan,strategy=\"most_frequent\")\n",
    "# use the training set to fit the imputer\n",
    "si.fit(Xtrain.loc[:,cate])\n",
    "# apply the imputer to training/testing set\n",
    "Xtrain.loc[:,cate] = si.transform(Xtrain.loc[:,cate])\n",
    "Xtest.loc[:,cate] = si.transform(Xtest.loc[:,cate])"
   ]
  },
  {
   "cell_type": "code",
   "execution_count": 38,
   "metadata": {},
   "outputs": [
    {
     "data": {
      "text/plain": [
       "Climate        0.0\n",
       "WindGustDir    0.0\n",
       "WindDir9am     0.0\n",
       "WindDir3pm     0.0\n",
       "RainToday      0.0\n",
       "Cloud9am       0.0\n",
       "Cloud3pm       0.0\n",
       "dtype: float64"
      ]
     },
     "execution_count": 38,
     "metadata": {},
     "output_type": "execute_result"
    }
   ],
   "source": [
    "# make sure there is no missing value in categorical variables\n",
    "Xtrain.loc[:,cate].isnull().mean()"
   ]
  },
  {
   "cell_type": "code",
   "execution_count": 39,
   "metadata": {},
   "outputs": [
    {
     "data": {
      "text/plain": [
       "Climate        0.0\n",
       "WindGustDir    0.0\n",
       "WindDir9am     0.0\n",
       "WindDir3pm     0.0\n",
       "RainToday      0.0\n",
       "Cloud9am       0.0\n",
       "Cloud3pm       0.0\n",
       "dtype: float64"
      ]
     },
     "execution_count": 39,
     "metadata": {},
     "output_type": "execute_result"
    }
   ],
   "source": [
    "# make sure there is no missing value in categorical variables\n",
    "Xtest.loc[:,cate].isnull().mean()"
   ]
  },
  {
   "cell_type": "markdown",
   "metadata": {},
   "source": [
    "## Preprocessing 2.2: Missing Values in Numerical Variables"
   ]
  },
  {
   "cell_type": "code",
   "execution_count": 40,
   "metadata": {},
   "outputs": [],
   "source": [
    "col = [x for x in Xtrain.columns if x not in cate]\n",
    "\n",
    "# use mean to impute the numerical variables\n",
    "impmean = SimpleImputer(missing_values=np.nan,strategy = \"mean\")\n",
    "impmean = impmean.fit(Xtrain.loc[:,col])\n",
    "Xtrain.loc[:,col] = impmean.transform(Xtrain.loc[:,col])\n",
    "Xtest.loc[:,col] = impmean.transform(Xtest.loc[:,col])"
   ]
  },
  {
   "cell_type": "code",
   "execution_count": 41,
   "metadata": {},
   "outputs": [
    {
     "data": {
      "text/plain": [
       "Month            0.0\n",
       "Climate          0.0\n",
       "MinTemp          0.0\n",
       "MaxTemp          0.0\n",
       "Rainfall         0.0\n",
       "Evaporation      0.0\n",
       "Sunshine         0.0\n",
       "WindGustDir      0.0\n",
       "WindGustSpeed    0.0\n",
       "WindDir9am       0.0\n",
       "WindDir3pm       0.0\n",
       "WindSpeed9am     0.0\n",
       "WindSpeed3pm     0.0\n",
       "Humidity9am      0.0\n",
       "Humidity3pm      0.0\n",
       "Pressure9am      0.0\n",
       "Pressure3pm      0.0\n",
       "Cloud9am         0.0\n",
       "Cloud3pm         0.0\n",
       "Temp9am          0.0\n",
       "Temp3pm          0.0\n",
       "RainToday        0.0\n",
       "dtype: float64"
      ]
     },
     "execution_count": 41,
     "metadata": {},
     "output_type": "execute_result"
    }
   ],
   "source": [
    "# no missing value in training/testing set\n",
    "Xtrain.isnull().mean()\n",
    "Xtest.isnull().mean()"
   ]
  },
  {
   "cell_type": "markdown",
   "metadata": {},
   "source": [
    "## Preprocessing 3: Encoding Categorical Variables"
   ]
  },
  {
   "cell_type": "code",
   "execution_count": 42,
   "metadata": {},
   "outputs": [],
   "source": [
    "# encode the categorical variables\n",
    "from sklearn.preprocessing import OrdinalEncoder\n",
    "oe = OrdinalEncoder()\n",
    "oe = oe.fit(Xtrain.loc[:,cate])\n",
    "Xtrain.loc[:,cate] = oe.transform(Xtrain.loc[:,cate])\n",
    "Xtest.loc[:,cate] = oe.transform(Xtest.loc[:,cate])"
   ]
  },
  {
   "cell_type": "markdown",
   "metadata": {},
   "source": [
    "## Preprocessing 4: Normalization"
   ]
  },
  {
   "cell_type": "code",
   "execution_count": 43,
   "metadata": {},
   "outputs": [],
   "source": [
    "# use StandarScaler to accelerate the convergence especially in unit-sensitive models like SVM\n",
    "from sklearn.preprocessing import StandardScaler\n",
    "ss = StandardScaler()\n",
    "col.remove(\"Month\")\n",
    "ss = ss.fit(Xtrain.loc[:,col])\n",
    "Xtrain.loc[:,col] = ss.transform(Xtrain.loc[:,col])\n",
    "Xtest.loc[:,col] = ss.transform(Xtest.loc[:,col])"
   ]
  },
  {
   "cell_type": "markdown",
   "metadata": {},
   "source": [
    "## Now we have finished all the preprocessing and feature engineering part"
   ]
  },
  {
   "cell_type": "code",
   "execution_count": 44,
   "metadata": {
    "scrolled": true
   },
   "outputs": [
    {
     "data": {
      "text/html": [
       "<div>\n",
       "<style scoped>\n",
       "    .dataframe tbody tr th:only-of-type {\n",
       "        vertical-align: middle;\n",
       "    }\n",
       "\n",
       "    .dataframe tbody tr th {\n",
       "        vertical-align: top;\n",
       "    }\n",
       "\n",
       "    .dataframe thead th {\n",
       "        text-align: right;\n",
       "    }\n",
       "</style>\n",
       "<table border=\"1\" class=\"dataframe\">\n",
       "  <thead>\n",
       "    <tr style=\"text-align: right;\">\n",
       "      <th></th>\n",
       "      <th>Month</th>\n",
       "      <th>Climate</th>\n",
       "      <th>MinTemp</th>\n",
       "      <th>MaxTemp</th>\n",
       "      <th>Rainfall</th>\n",
       "      <th>Evaporation</th>\n",
       "      <th>Sunshine</th>\n",
       "      <th>WindGustDir</th>\n",
       "      <th>WindGustSpeed</th>\n",
       "      <th>WindDir9am</th>\n",
       "      <th>...</th>\n",
       "      <th>WindSpeed3pm</th>\n",
       "      <th>Humidity9am</th>\n",
       "      <th>Humidity3pm</th>\n",
       "      <th>Pressure9am</th>\n",
       "      <th>Pressure3pm</th>\n",
       "      <th>Cloud9am</th>\n",
       "      <th>Cloud3pm</th>\n",
       "      <th>Temp9am</th>\n",
       "      <th>Temp3pm</th>\n",
       "      <th>RainToday</th>\n",
       "    </tr>\n",
       "  </thead>\n",
       "  <tbody>\n",
       "    <tr>\n",
       "      <th>0</th>\n",
       "      <td>8.0</td>\n",
       "      <td>1.0</td>\n",
       "      <td>0.826375</td>\n",
       "      <td>1.774044</td>\n",
       "      <td>-0.314379</td>\n",
       "      <td>0.964367</td>\n",
       "      <td>0.000000</td>\n",
       "      <td>2.0</td>\n",
       "      <td>-1.085893e+00</td>\n",
       "      <td>6.0</td>\n",
       "      <td>...</td>\n",
       "      <td>-0.416443</td>\n",
       "      <td>-0.646283</td>\n",
       "      <td>0.000000</td>\n",
       "      <td>-0.122589</td>\n",
       "      <td>-0.453507</td>\n",
       "      <td>0.0</td>\n",
       "      <td>7.0</td>\n",
       "      <td>1.612270</td>\n",
       "      <td>0.000000</td>\n",
       "      <td>0.0</td>\n",
       "    </tr>\n",
       "    <tr>\n",
       "      <th>1</th>\n",
       "      <td>12.0</td>\n",
       "      <td>0.0</td>\n",
       "      <td>-0.427048</td>\n",
       "      <td>0.244031</td>\n",
       "      <td>-0.314379</td>\n",
       "      <td>0.000000</td>\n",
       "      <td>0.000000</td>\n",
       "      <td>6.0</td>\n",
       "      <td>-5.373993e-01</td>\n",
       "      <td>4.0</td>\n",
       "      <td>...</td>\n",
       "      <td>-0.182051</td>\n",
       "      <td>-0.539186</td>\n",
       "      <td>-1.011310</td>\n",
       "      <td>0.414254</td>\n",
       "      <td>0.340522</td>\n",
       "      <td>7.0</td>\n",
       "      <td>7.0</td>\n",
       "      <td>-0.366608</td>\n",
       "      <td>0.270238</td>\n",
       "      <td>0.0</td>\n",
       "    </tr>\n",
       "    <tr>\n",
       "      <th>2</th>\n",
       "      <td>4.0</td>\n",
       "      <td>4.0</td>\n",
       "      <td>0.121324</td>\n",
       "      <td>-0.089790</td>\n",
       "      <td>-0.314379</td>\n",
       "      <td>-0.551534</td>\n",
       "      <td>1.062619</td>\n",
       "      <td>13.0</td>\n",
       "      <td>-1.113509e-15</td>\n",
       "      <td>4.0</td>\n",
       "      <td>...</td>\n",
       "      <td>1.458692</td>\n",
       "      <td>0.531786</td>\n",
       "      <td>0.800547</td>\n",
       "      <td>0.399342</td>\n",
       "      <td>0.070852</td>\n",
       "      <td>1.0</td>\n",
       "      <td>3.0</td>\n",
       "      <td>0.078256</td>\n",
       "      <td>-0.132031</td>\n",
       "      <td>0.0</td>\n",
       "    </tr>\n",
       "    <tr>\n",
       "      <th>3</th>\n",
       "      <td>11.0</td>\n",
       "      <td>4.0</td>\n",
       "      <td>0.262334</td>\n",
       "      <td>0.911673</td>\n",
       "      <td>-0.314379</td>\n",
       "      <td>0.054826</td>\n",
       "      <td>-0.885225</td>\n",
       "      <td>8.0</td>\n",
       "      <td>-2.239744e-01</td>\n",
       "      <td>3.0</td>\n",
       "      <td>...</td>\n",
       "      <td>1.107105</td>\n",
       "      <td>0.692432</td>\n",
       "      <td>-0.374711</td>\n",
       "      <td>-0.763819</td>\n",
       "      <td>-1.397352</td>\n",
       "      <td>6.0</td>\n",
       "      <td>6.0</td>\n",
       "      <td>0.231658</td>\n",
       "      <td>0.830540</td>\n",
       "      <td>0.0</td>\n",
       "    </tr>\n",
       "    <tr>\n",
       "      <th>4</th>\n",
       "      <td>4.0</td>\n",
       "      <td>2.0</td>\n",
       "      <td>-0.975421</td>\n",
       "      <td>0.035393</td>\n",
       "      <td>-0.314379</td>\n",
       "      <td>-0.854715</td>\n",
       "      <td>0.401087</td>\n",
       "      <td>5.0</td>\n",
       "      <td>-1.242605e+00</td>\n",
       "      <td>0.0</td>\n",
       "      <td>...</td>\n",
       "      <td>-0.416443</td>\n",
       "      <td>-0.592734</td>\n",
       "      <td>-0.815433</td>\n",
       "      <td>0.324780</td>\n",
       "      <td>-0.168855</td>\n",
       "      <td>2.0</td>\n",
       "      <td>4.0</td>\n",
       "      <td>-0.704091</td>\n",
       "      <td>0.097837</td>\n",
       "      <td>0.0</td>\n",
       "    </tr>\n",
       "  </tbody>\n",
       "</table>\n",
       "<p>5 rows × 22 columns</p>\n",
       "</div>"
      ],
      "text/plain": [
       "   Month  Climate   MinTemp   MaxTemp  Rainfall  Evaporation  Sunshine  \\\n",
       "0    8.0      1.0  0.826375  1.774044 -0.314379     0.964367  0.000000   \n",
       "1   12.0      0.0 -0.427048  0.244031 -0.314379     0.000000  0.000000   \n",
       "2    4.0      4.0  0.121324 -0.089790 -0.314379    -0.551534  1.062619   \n",
       "3   11.0      4.0  0.262334  0.911673 -0.314379     0.054826 -0.885225   \n",
       "4    4.0      2.0 -0.975421  0.035393 -0.314379    -0.854715  0.401087   \n",
       "\n",
       "   WindGustDir  WindGustSpeed  WindDir9am  ...  WindSpeed3pm  Humidity9am  \\\n",
       "0          2.0  -1.085893e+00         6.0  ...     -0.416443    -0.646283   \n",
       "1          6.0  -5.373993e-01         4.0  ...     -0.182051    -0.539186   \n",
       "2         13.0  -1.113509e-15         4.0  ...      1.458692     0.531786   \n",
       "3          8.0  -2.239744e-01         3.0  ...      1.107105     0.692432   \n",
       "4          5.0  -1.242605e+00         0.0  ...     -0.416443    -0.592734   \n",
       "\n",
       "   Humidity3pm  Pressure9am  Pressure3pm  Cloud9am  Cloud3pm   Temp9am  \\\n",
       "0     0.000000    -0.122589    -0.453507       0.0       7.0  1.612270   \n",
       "1    -1.011310     0.414254     0.340522       7.0       7.0 -0.366608   \n",
       "2     0.800547     0.399342     0.070852       1.0       3.0  0.078256   \n",
       "3    -0.374711    -0.763819    -1.397352       6.0       6.0  0.231658   \n",
       "4    -0.815433     0.324780    -0.168855       2.0       4.0 -0.704091   \n",
       "\n",
       "    Temp3pm  RainToday  \n",
       "0  0.000000        0.0  \n",
       "1  0.270238        0.0  \n",
       "2 -0.132031        0.0  \n",
       "3  0.830540        0.0  \n",
       "4  0.097837        0.0  \n",
       "\n",
       "[5 rows x 22 columns]"
      ]
     },
     "execution_count": 44,
     "metadata": {},
     "output_type": "execute_result"
    }
   ],
   "source": [
    "Xtrain.head()"
   ]
  },
  {
   "cell_type": "code",
   "execution_count": 45,
   "metadata": {},
   "outputs": [
    {
     "name": "stdout",
     "output_type": "stream",
     "text": [
      "<class 'pandas.core.frame.DataFrame'>\n",
      "RangeIndex: 3500 entries, 0 to 3499\n",
      "Data columns (total 22 columns):\n",
      " #   Column         Non-Null Count  Dtype  \n",
      "---  ------         --------------  -----  \n",
      " 0   Month          3500 non-null   float64\n",
      " 1   Climate        3500 non-null   float64\n",
      " 2   MinTemp        3500 non-null   float64\n",
      " 3   MaxTemp        3500 non-null   float64\n",
      " 4   Rainfall       3500 non-null   float64\n",
      " 5   Evaporation    3500 non-null   float64\n",
      " 6   Sunshine       3500 non-null   float64\n",
      " 7   WindGustDir    3500 non-null   float64\n",
      " 8   WindGustSpeed  3500 non-null   float64\n",
      " 9   WindDir9am     3500 non-null   float64\n",
      " 10  WindDir3pm     3500 non-null   float64\n",
      " 11  WindSpeed9am   3500 non-null   float64\n",
      " 12  WindSpeed3pm   3500 non-null   float64\n",
      " 13  Humidity9am    3500 non-null   float64\n",
      " 14  Humidity3pm    3500 non-null   float64\n",
      " 15  Pressure9am    3500 non-null   float64\n",
      " 16  Pressure3pm    3500 non-null   float64\n",
      " 17  Cloud9am       3500 non-null   float64\n",
      " 18  Cloud3pm       3500 non-null   float64\n",
      " 19  Temp9am        3500 non-null   float64\n",
      " 20  Temp3pm        3500 non-null   float64\n",
      " 21  RainToday      3500 non-null   float64\n",
      "dtypes: float64(22)\n",
      "memory usage: 601.7 KB\n"
     ]
    }
   ],
   "source": [
    "Xtrain.info()"
   ]
  },
  {
   "cell_type": "code",
   "execution_count": 46,
   "metadata": {},
   "outputs": [
    {
     "data": {
      "text/html": [
       "<div>\n",
       "<style scoped>\n",
       "    .dataframe tbody tr th:only-of-type {\n",
       "        vertical-align: middle;\n",
       "    }\n",
       "\n",
       "    .dataframe tbody tr th {\n",
       "        vertical-align: top;\n",
       "    }\n",
       "\n",
       "    .dataframe thead th {\n",
       "        text-align: right;\n",
       "    }\n",
       "</style>\n",
       "<table border=\"1\" class=\"dataframe\">\n",
       "  <thead>\n",
       "    <tr style=\"text-align: right;\">\n",
       "      <th></th>\n",
       "      <th>Month</th>\n",
       "      <th>Climate</th>\n",
       "      <th>MinTemp</th>\n",
       "      <th>MaxTemp</th>\n",
       "      <th>Rainfall</th>\n",
       "      <th>Evaporation</th>\n",
       "      <th>Sunshine</th>\n",
       "      <th>WindGustDir</th>\n",
       "      <th>WindGustSpeed</th>\n",
       "      <th>WindDir9am</th>\n",
       "      <th>...</th>\n",
       "      <th>WindSpeed3pm</th>\n",
       "      <th>Humidity9am</th>\n",
       "      <th>Humidity3pm</th>\n",
       "      <th>Pressure9am</th>\n",
       "      <th>Pressure3pm</th>\n",
       "      <th>Cloud9am</th>\n",
       "      <th>Cloud3pm</th>\n",
       "      <th>Temp9am</th>\n",
       "      <th>Temp3pm</th>\n",
       "      <th>RainToday</th>\n",
       "    </tr>\n",
       "  </thead>\n",
       "  <tbody>\n",
       "    <tr>\n",
       "      <th>0</th>\n",
       "      <td>1.0</td>\n",
       "      <td>0.0</td>\n",
       "      <td>1.531425</td>\n",
       "      <td>0.633489</td>\n",
       "      <td>2.871067</td>\n",
       "      <td>0.000000</td>\n",
       "      <td>0.000000</td>\n",
       "      <td>11.0</td>\n",
       "      <td>1.343150</td>\n",
       "      <td>8.0</td>\n",
       "      <td>...</td>\n",
       "      <td>2.161868e+00</td>\n",
       "      <td>1.174369</td>\n",
       "      <td>1.681991</td>\n",
       "      <td>-1.643646</td>\n",
       "      <td>-1.067755</td>\n",
       "      <td>7.0</td>\n",
       "      <td>7.0</td>\n",
       "      <td>1.412848</td>\n",
       "      <td>0.198404</td>\n",
       "      <td>1.0</td>\n",
       "    </tr>\n",
       "    <tr>\n",
       "      <th>1</th>\n",
       "      <td>3.0</td>\n",
       "      <td>4.0</td>\n",
       "      <td>-0.035354</td>\n",
       "      <td>-0.646158</td>\n",
       "      <td>-0.036285</td>\n",
       "      <td>-0.794079</td>\n",
       "      <td>0.107073</td>\n",
       "      <td>12.0</td>\n",
       "      <td>0.951369</td>\n",
       "      <td>12.0</td>\n",
       "      <td>...</td>\n",
       "      <td>1.107105e+00</td>\n",
       "      <td>1.013723</td>\n",
       "      <td>0.506733</td>\n",
       "      <td>0.384430</td>\n",
       "      <td>0.700082</td>\n",
       "      <td>8.0</td>\n",
       "      <td>7.0</td>\n",
       "      <td>-0.335927</td>\n",
       "      <td>-0.606132</td>\n",
       "      <td>1.0</td>\n",
       "    </tr>\n",
       "    <tr>\n",
       "      <th>2</th>\n",
       "      <td>3.0</td>\n",
       "      <td>0.0</td>\n",
       "      <td>-0.489720</td>\n",
       "      <td>-1.383346</td>\n",
       "      <td>0.000000</td>\n",
       "      <td>0.000000</td>\n",
       "      <td>0.000000</td>\n",
       "      <td>4.0</td>\n",
       "      <td>0.089450</td>\n",
       "      <td>3.0</td>\n",
       "      <td>...</td>\n",
       "      <td>-4.163637e-16</td>\n",
       "      <td>0.000000</td>\n",
       "      <td>0.000000</td>\n",
       "      <td>0.000000</td>\n",
       "      <td>0.000000</td>\n",
       "      <td>7.0</td>\n",
       "      <td>7.0</td>\n",
       "      <td>0.000000</td>\n",
       "      <td>0.000000</td>\n",
       "      <td>0.0</td>\n",
       "    </tr>\n",
       "    <tr>\n",
       "      <th>3</th>\n",
       "      <td>10.0</td>\n",
       "      <td>6.0</td>\n",
       "      <td>0.136992</td>\n",
       "      <td>-0.409702</td>\n",
       "      <td>-0.314379</td>\n",
       "      <td>0.000000</td>\n",
       "      <td>0.000000</td>\n",
       "      <td>12.0</td>\n",
       "      <td>-0.537399</td>\n",
       "      <td>13.0</td>\n",
       "      <td>...</td>\n",
       "      <td>6.383207e-01</td>\n",
       "      <td>-1.556609</td>\n",
       "      <td>-0.031928</td>\n",
       "      <td>0.548465</td>\n",
       "      <td>0.640155</td>\n",
       "      <td>7.0</td>\n",
       "      <td>7.0</td>\n",
       "      <td>-0.029125</td>\n",
       "      <td>-0.304431</td>\n",
       "      <td>0.0</td>\n",
       "    </tr>\n",
       "    <tr>\n",
       "      <th>4</th>\n",
       "      <td>11.0</td>\n",
       "      <td>4.0</td>\n",
       "      <td>-0.004018</td>\n",
       "      <td>-0.451429</td>\n",
       "      <td>-0.263817</td>\n",
       "      <td>0.000000</td>\n",
       "      <td>0.000000</td>\n",
       "      <td>0.0</td>\n",
       "      <td>-0.537399</td>\n",
       "      <td>12.0</td>\n",
       "      <td>...</td>\n",
       "      <td>5.234093e-02</td>\n",
       "      <td>1.227917</td>\n",
       "      <td>0.849516</td>\n",
       "      <td>-0.301537</td>\n",
       "      <td>-0.303690</td>\n",
       "      <td>8.0</td>\n",
       "      <td>4.0</td>\n",
       "      <td>-0.520009</td>\n",
       "      <td>-0.390632</td>\n",
       "      <td>0.0</td>\n",
       "    </tr>\n",
       "  </tbody>\n",
       "</table>\n",
       "<p>5 rows × 22 columns</p>\n",
       "</div>"
      ],
      "text/plain": [
       "   Month  Climate   MinTemp   MaxTemp  Rainfall  Evaporation  Sunshine  \\\n",
       "0    1.0      0.0  1.531425  0.633489  2.871067     0.000000  0.000000   \n",
       "1    3.0      4.0 -0.035354 -0.646158 -0.036285    -0.794079  0.107073   \n",
       "2    3.0      0.0 -0.489720 -1.383346  0.000000     0.000000  0.000000   \n",
       "3   10.0      6.0  0.136992 -0.409702 -0.314379     0.000000  0.000000   \n",
       "4   11.0      4.0 -0.004018 -0.451429 -0.263817     0.000000  0.000000   \n",
       "\n",
       "   WindGustDir  WindGustSpeed  WindDir9am  ...  WindSpeed3pm  Humidity9am  \\\n",
       "0         11.0       1.343150         8.0  ...  2.161868e+00     1.174369   \n",
       "1         12.0       0.951369        12.0  ...  1.107105e+00     1.013723   \n",
       "2          4.0       0.089450         3.0  ... -4.163637e-16     0.000000   \n",
       "3         12.0      -0.537399        13.0  ...  6.383207e-01    -1.556609   \n",
       "4          0.0      -0.537399        12.0  ...  5.234093e-02     1.227917   \n",
       "\n",
       "   Humidity3pm  Pressure9am  Pressure3pm  Cloud9am  Cloud3pm   Temp9am  \\\n",
       "0     1.681991    -1.643646    -1.067755       7.0       7.0  1.412848   \n",
       "1     0.506733     0.384430     0.700082       8.0       7.0 -0.335927   \n",
       "2     0.000000     0.000000     0.000000       7.0       7.0  0.000000   \n",
       "3    -0.031928     0.548465     0.640155       7.0       7.0 -0.029125   \n",
       "4     0.849516    -0.301537    -0.303690       8.0       4.0 -0.520009   \n",
       "\n",
       "    Temp3pm  RainToday  \n",
       "0  0.198404        1.0  \n",
       "1 -0.606132        1.0  \n",
       "2  0.000000        0.0  \n",
       "3 -0.304431        0.0  \n",
       "4 -0.390632        0.0  \n",
       "\n",
       "[5 rows x 22 columns]"
      ]
     },
     "execution_count": 46,
     "metadata": {},
     "output_type": "execute_result"
    }
   ],
   "source": [
    "Xtest.head()"
   ]
  },
  {
   "cell_type": "code",
   "execution_count": 47,
   "metadata": {},
   "outputs": [
    {
     "name": "stdout",
     "output_type": "stream",
     "text": [
      "<class 'pandas.core.frame.DataFrame'>\n",
      "RangeIndex: 1500 entries, 0 to 1499\n",
      "Data columns (total 22 columns):\n",
      " #   Column         Non-Null Count  Dtype  \n",
      "---  ------         --------------  -----  \n",
      " 0   Month          1500 non-null   float64\n",
      " 1   Climate        1500 non-null   float64\n",
      " 2   MinTemp        1500 non-null   float64\n",
      " 3   MaxTemp        1500 non-null   float64\n",
      " 4   Rainfall       1500 non-null   float64\n",
      " 5   Evaporation    1500 non-null   float64\n",
      " 6   Sunshine       1500 non-null   float64\n",
      " 7   WindGustDir    1500 non-null   float64\n",
      " 8   WindGustSpeed  1500 non-null   float64\n",
      " 9   WindDir9am     1500 non-null   float64\n",
      " 10  WindDir3pm     1500 non-null   float64\n",
      " 11  WindSpeed9am   1500 non-null   float64\n",
      " 12  WindSpeed3pm   1500 non-null   float64\n",
      " 13  Humidity9am    1500 non-null   float64\n",
      " 14  Humidity3pm    1500 non-null   float64\n",
      " 15  Pressure9am    1500 non-null   float64\n",
      " 16  Pressure3pm    1500 non-null   float64\n",
      " 17  Cloud9am       1500 non-null   float64\n",
      " 18  Cloud3pm       1500 non-null   float64\n",
      " 19  Temp9am        1500 non-null   float64\n",
      " 20  Temp3pm        1500 non-null   float64\n",
      " 21  RainToday      1500 non-null   float64\n",
      "dtypes: float64(22)\n",
      "memory usage: 257.9 KB\n"
     ]
    }
   ],
   "source": [
    "Xtest.info()"
   ]
  },
  {
   "cell_type": "markdown",
   "metadata": {},
   "source": [
    "# Analytics Models"
   ]
  },
  {
   "cell_type": "markdown",
   "metadata": {},
   "source": [
    ">Result: We applied 9 models to this dataset"
   ]
  },
  {
   "cell_type": "markdown",
   "metadata": {},
   "source": [
    "- 'XGBoost' is the most powerful model with the highest accuracy\n",
    "- 'SVM-Poly Kernel' has the advantage of balancing accuracy and time consumption"
   ]
  },
  {
   "cell_type": "markdown",
   "metadata": {},
   "source": [
    "| Model                                        | Accuracy    | Time(s) | \n",
    "| ----                                         | ----------- |---------|\n",
    "| Base Model                                   | 0.771       | 0       |                 \n",
    "| SVM-Linear Kernel                            | 0.844       | 480     |\n",
    "| SVM-Poly Kernel                              | 0.851       | 25      |\n",
    "| SVM-RBF Kernel                               | 0.842       | 25      |\n",
    "| Logistic Regression                          | 0.842       | 22      |\n",
    "| CART                                         | 0.824       | 22      |\n",
    "| Random Forest                                | 0.847       | 182     |\n",
    "| Gradient Boosting Tree                       | 0.852       | 284     |\n",
    "| XGBoost                                      | 0.858       | 681     |"
   ]
  },
  {
   "cell_type": "code",
   "execution_count": 48,
   "metadata": {},
   "outputs": [],
   "source": [
    "Ytrain = Ytrain.iloc[:,0].ravel()\n",
    "Ytest = Ytest.iloc[:,0].ravel()"
   ]
  },
  {
   "cell_type": "code",
   "execution_count": 49,
   "metadata": {},
   "outputs": [],
   "source": [
    "from time import time\n",
    "time_start = time()"
   ]
  },
  {
   "cell_type": "code",
   "execution_count": null,
   "metadata": {},
   "outputs": [],
   "source": []
  },
  {
   "cell_type": "markdown",
   "metadata": {},
   "source": [
    "# Base Model"
   ]
  },
  {
   "cell_type": "code",
   "execution_count": 50,
   "metadata": {},
   "outputs": [
    {
     "data": {
      "text/plain": [
       "0.7713333333333333"
      ]
     },
     "execution_count": 50,
     "metadata": {},
     "output_type": "execute_result"
    }
   ],
   "source": [
    "sum(Ytest == 0)/len(Ytest)"
   ]
  },
  {
   "cell_type": "markdown",
   "metadata": {},
   "source": [
    "## SVM"
   ]
  },
  {
   "cell_type": "code",
   "execution_count": 51,
   "metadata": {},
   "outputs": [],
   "source": [
    "from time import time\n",
    "import datetime\n",
    "from sklearn.svm import SVC\n",
    "from sklearn.model_selection import cross_val_score\n",
    "from sklearn.metrics import roc_auc_score, recall_score"
   ]
  },
  {
   "cell_type": "markdown",
   "metadata": {},
   "source": [
    "### select kernel"
   ]
  },
  {
   "cell_type": "code",
   "execution_count": 52,
   "metadata": {},
   "outputs": [
    {
     "name": "stdout",
     "output_type": "stream",
     "text": [
      "\n",
      "linear 's testing accuracy 0.844000, recall is 0.469388', auc is 0.869029\n",
      "00:00:787669\n",
      "\n",
      "poly 's testing accuracy 0.840667, recall is 0.457726', auc is 0.868157\n",
      "00:01:253079\n",
      "\n",
      "rbf 's testing accuracy 0.813333, recall is 0.306122', auc is 0.814873\n",
      "00:02:828356\n",
      "\n",
      "sigmoid 's testing accuracy 0.655333, recall is 0.154519', auc is 0.437308\n",
      "00:03:678660\n"
     ]
    }
   ],
   "source": [
    "times = time()\n",
    "for kernel in [\"linear\",\"poly\",\"rbf\",\"sigmoid\"]:\n",
    "    clf = SVC(kernel = kernel\n",
    "              ,gamma=\"auto\"\n",
    "              ,degree = 1\n",
    "              ,cache_size = 5000\n",
    "             ).fit(Xtrain, Ytrain)\n",
    "    result = clf.predict(Xtest)\n",
    "    score = clf.score(Xtest,Ytest)\n",
    "    recall = recall_score(Ytest, result)\n",
    "    auc = roc_auc_score(Ytest,clf.decision_function(Xtest))\n",
    "    print(\"\\n%s 's testing accuracy %f, recall is %f', auc is %f\" % (kernel,score,recall,auc))\n",
    "    print(datetime.datetime.fromtimestamp(time()-times).strftime(\"%M:%S:%f\"))"
   ]
  },
  {
   "cell_type": "markdown",
   "metadata": {},
   "source": [
    "Conclusion: sigmoid kernel should be exclued."
   ]
  },
  {
   "cell_type": "markdown",
   "metadata": {},
   "source": [
    "## SVM-Linear Kernel"
   ]
  },
  {
   "cell_type": "code",
   "execution_count": 53,
   "metadata": {
    "scrolled": true
   },
   "outputs": [
    {
     "name": "stdout",
     "output_type": "stream",
     "text": [
      "time: 240 s\n"
     ]
    }
   ],
   "source": [
    "# 4 min\n",
    "import time\n",
    "from sklearn.model_selection import GridSearchCV\n",
    "from sklearn.svm import SVC\n",
    "\n",
    "grid_values = {'C': np.linspace(0.01,20,20)}\n",
    "\n",
    "tic = time.time()\n",
    "clf = SVC(kernel = 'linear')\n",
    "clf_cv = GridSearchCV(clf, param_grid=grid_values, scoring='accuracy', cv=5, verbose=0)\n",
    "clf_cv.fit(Xtrain, Ytrain)\n",
    "toc = time.time()\n",
    "print('time:', round(toc-tic),'s')"
   ]
  },
  {
   "cell_type": "code",
   "execution_count": 54,
   "metadata": {},
   "outputs": [
    {
     "data": {
      "image/png": "[encoded data removed]",
      "text/plain": [
       "<Figure size 576x432 with 1 Axes>"
      ]
     },
     "metadata": {
      "needs_background": "light"
     },
     "output_type": "display_data"
    },
    {
     "name": "stdout",
     "output_type": "stream",
     "text": [
      "Best C {'C': 1.0621052631578947}\n"
     ]
    }
   ],
   "source": [
    "C = clf_cv.cv_results_['param_C'].data\n",
    "scores = clf_cv.cv_results_['mean_test_score']\n",
    "\n",
    "plt.figure(figsize=(8, 6))\n",
    "plt.xlabel('C', fontsize=16)\n",
    "plt.ylabel('CV accuracy_score', fontsize=16)\n",
    "plt.scatter(C, scores, s=30)\n",
    "plt.plot(C, scores, linewidth=3)\n",
    "plt.grid(True, which='both')\n",
    "# plt.xlim([0, 0.01])\n",
    "# plt.ylim([0.8, 1])\n",
    "\n",
    "plt.tight_layout()\n",
    "plt.show()\n",
    "\n",
    "print('Best C', clf_cv.best_params_)"
   ]
  },
  {
   "cell_type": "code",
   "execution_count": 55,
   "metadata": {},
   "outputs": [
    {
     "name": "stdout",
     "output_type": "stream",
     "text": [
      "0.844\n"
     ]
    },
    {
     "data": {
      "text/plain": [
       "array([[1105,   52],\n",
       "       [ 182,  161]])"
      ]
     },
     "execution_count": 55,
     "metadata": {},
     "output_type": "execute_result"
    }
   ],
   "source": [
    "from sklearn.metrics import accuracy_score\n",
    "from sklearn.metrics import confusion_matrix\n",
    "clf = SVC(kernel = 'linear', C = 1.0621052631578947).fit(Xtrain, Ytrain)\n",
    "print(accuracy_score(Ytest, clf.predict(Xtest)))\n",
    "confusion_matrix(Ytest,clf.predict(Xtest))"
   ]
  },
  {
   "cell_type": "code",
   "execution_count": 56,
   "metadata": {},
   "outputs": [],
   "source": [
    "import time\n",
    "\n",
    "def bootstrap_validation(test_data, test_label, train_label, models, metric, sample=500, random_state=66):\n",
    "    tic = time.time()\n",
    "    n_sample = sample\n",
    "    n_model = len(models)\n",
    "    output_array=np.zeros([n_sample, n_model])\n",
    "    output_array[:]=np.nan\n",
    "    print(output_array.shape)\n",
    "    for model_idx in range(n_model):\n",
    "        print('\\nprocessing model', model_idx)\n",
    "        for bs_iter in range(n_sample):\n",
    "            bs_index = np.random.choice(test_data.index, len(test_data.index), replace=True)\n",
    "            bs_data = test_data.loc[bs_index]\n",
    "            bs_label = test_label[bs_index]\n",
    "            bs_predicted = models[model_idx].predict(bs_data)\n",
    "            output_array[bs_iter, model_idx]=metric(bs_label,bs_predicted)\n",
    "            if bs_iter % 100 == 0:\n",
    "                print('processing:', bs_iter, time.time()-tic, 's')\n",
    "    output_df = pd.DataFrame(output_array)\n",
    "    return output_df"
   ]
  },
  {
   "cell_type": "code",
   "execution_count": 57,
   "metadata": {},
   "outputs": [
    {
     "name": "stdout",
     "output_type": "stream",
     "text": [
      "(1000, 1)\n",
      "\n",
      "processing model 0\n",
      "processing: 0 0.0687251091003418 s\n",
      "processing: 100 6.563836097717285 s\n",
      "processing: 200 13.099476337432861 s\n",
      "processing: 300 19.537389993667603 s\n",
      "processing: 400 26.08492612838745 s\n",
      "processing: 500 32.60323715209961 s\n",
      "processing: 600 39.13803005218506 s\n",
      "processing: 700 45.67172718048096 s\n",
      "processing: 800 52.11331510543823 s\n",
      "processing: 900 58.43799710273743 s\n",
      "time: 64.68032217025757 s\n"
     ]
    },
    {
     "data": {
      "text/html": [
       "<div>\n",
       "<style scoped>\n",
       "    .dataframe tbody tr th:only-of-type {\n",
       "        vertical-align: middle;\n",
       "    }\n",
       "\n",
       "    .dataframe tbody tr th {\n",
       "        vertical-align: top;\n",
       "    }\n",
       "\n",
       "    .dataframe thead th {\n",
       "        text-align: right;\n",
       "    }\n",
       "</style>\n",
       "<table border=\"1\" class=\"dataframe\">\n",
       "  <thead>\n",
       "    <tr style=\"text-align: right;\">\n",
       "      <th></th>\n",
       "      <th>SVM-Linear</th>\n",
       "    </tr>\n",
       "  </thead>\n",
       "  <tbody>\n",
       "    <tr>\n",
       "      <th>0</th>\n",
       "      <td>0.851333</td>\n",
       "    </tr>\n",
       "    <tr>\n",
       "      <th>1</th>\n",
       "      <td>0.848000</td>\n",
       "    </tr>\n",
       "    <tr>\n",
       "      <th>2</th>\n",
       "      <td>0.845333</td>\n",
       "    </tr>\n",
       "    <tr>\n",
       "      <th>3</th>\n",
       "      <td>0.830000</td>\n",
       "    </tr>\n",
       "    <tr>\n",
       "      <th>4</th>\n",
       "      <td>0.844000</td>\n",
       "    </tr>\n",
       "    <tr>\n",
       "      <th>...</th>\n",
       "      <td>...</td>\n",
       "    </tr>\n",
       "    <tr>\n",
       "      <th>995</th>\n",
       "      <td>0.851333</td>\n",
       "    </tr>\n",
       "    <tr>\n",
       "      <th>996</th>\n",
       "      <td>0.834000</td>\n",
       "    </tr>\n",
       "    <tr>\n",
       "      <th>997</th>\n",
       "      <td>0.846000</td>\n",
       "    </tr>\n",
       "    <tr>\n",
       "      <th>998</th>\n",
       "      <td>0.833333</td>\n",
       "    </tr>\n",
       "    <tr>\n",
       "      <th>999</th>\n",
       "      <td>0.838667</td>\n",
       "    </tr>\n",
       "  </tbody>\n",
       "</table>\n",
       "<p>1000 rows × 1 columns</p>\n",
       "</div>"
      ],
      "text/plain": [
       "     SVM-Linear\n",
       "0      0.851333\n",
       "1      0.848000\n",
       "2      0.845333\n",
       "3      0.830000\n",
       "4      0.844000\n",
       "..          ...\n",
       "995    0.851333\n",
       "996    0.834000\n",
       "997    0.846000\n",
       "998    0.833333\n",
       "999    0.838667\n",
       "\n",
       "[1000 rows x 1 columns]"
      ]
     },
     "execution_count": 57,
     "metadata": {},
     "output_type": "execute_result"
    }
   ],
   "source": [
    "tic = time.time()\n",
    "bs_output = bootstrap_validation(Xtest,Ytest,Ytrain,[clf],\n",
    "                                 metric = accuracy_score,\n",
    "                                 sample = 1000)\n",
    "print('time:', time.time()-tic, 's')\n",
    "bs_output.rename(columns = {0:'SVM-Linear'})"
   ]
  },
  {
   "cell_type": "code",
   "execution_count": 58,
   "metadata": {},
   "outputs": [
    {
     "name": "stdout",
     "output_type": "stream",
     "text": [
      "The 95% confidence interval of accuracy is  [0.82533333 0.86266667] With mean accuracy 0.8441679999999985 Standard deviation 0.00959051605609534\n"
     ]
    },
    {
     "data": {
      "text/plain": [
       "<matplotlib.collections.LineCollection at 0x7fe8002407c0>"
      ]
     },
     "execution_count": 58,
     "metadata": {},
     "output_type": "execute_result"
    },
    {
     "data": {
      "image/png": "[encoded data removed]",
      "text/plain": [
       "<Figure size 432x288 with 1 Axes>"
      ]
     },
     "metadata": {
      "needs_background": "light"
     },
     "output_type": "display_data"
    }
   ],
   "source": [
    "CI_acc = np.quantile(bs_output.iloc[:,0],np.array([0.025,0.975]))\n",
    "mean_acc = np.mean(bs_output.iloc[:,0])\n",
    "std_acc = np.std(bs_output.iloc[:,0])\n",
    "fig,ax= plt.subplots()\n",
    "print(\"The 95% confidence interval of accuracy is \",CI_acc,\"With mean accuracy\",mean_acc, \"Standard deviation\",std_acc)\n",
    "#Plot Accuracy\n",
    "ax.set_xlabel('Boot Acc', fontsize=16)\n",
    "ax.set_ylabel('Count', fontsize=16)\n",
    "ax.hist(bs_output.iloc[:,0], bins=20,edgecolor='green', linewidth=2,color =\"grey\")\n",
    "ax.set_xlim([0.7,1])\n",
    "ax.vlines(x=CI_acc[0], ymin = 0, ymax =100, color = \"black\")\n",
    "ax.vlines(x=CI_acc[1], ymin = 0, ymax =100, color = \"black\")"
   ]
  },
  {
   "cell_type": "markdown",
   "metadata": {},
   "source": [
    "## SVM-Poly Kernel"
   ]
  },
  {
   "cell_type": "code",
   "execution_count": 59,
   "metadata": {
    "scrolled": true
   },
   "outputs": [
    {
     "name": "stdout",
     "output_type": "stream",
     "text": [
      "time: 26 s\n"
     ]
    }
   ],
   "source": [
    "import time\n",
    "from sklearn.model_selection import GridSearchCV\n",
    "from sklearn.svm import SVC\n",
    "\n",
    "grid_values = {'C': np.linspace(0.01,20,20)}\n",
    "\n",
    "tic = time.time()\n",
    "clf = SVC(kernel = 'poly')\n",
    "clf_cv = GridSearchCV(clf, param_grid=grid_values, scoring='accuracy', cv=5, verbose=0)\n",
    "clf_cv.fit(Xtrain, Ytrain)\n",
    "toc = time.time()\n",
    "print('time:', round(toc-tic),'s')"
   ]
  },
  {
   "cell_type": "code",
   "execution_count": 60,
   "metadata": {},
   "outputs": [
    {
     "data": {
      "image/png": "[encoded data removed]",
      "text/plain": [
       "<Figure size 576x432 with 1 Axes>"
      ]
     },
     "metadata": {
      "needs_background": "light"
     },
     "output_type": "display_data"
    },
    {
     "name": "stdout",
     "output_type": "stream",
     "text": [
      "Best C {'C': 7.374736842105262}\n"
     ]
    }
   ],
   "source": [
    "C = clf_cv.cv_results_['param_C'].data\n",
    "scores = clf_cv.cv_results_['mean_test_score']\n",
    "\n",
    "plt.figure(figsize=(8, 6))\n",
    "plt.xlabel('C', fontsize=16)\n",
    "plt.ylabel('CV accuracy_score', fontsize=16)\n",
    "plt.scatter(C, scores, s=30)\n",
    "plt.plot(C, scores, linewidth=3)\n",
    "plt.grid(True, which='both')\n",
    "# plt.xlim([0, 0.01])\n",
    "# plt.ylim([0.8, 1])\n",
    "\n",
    "plt.tight_layout()\n",
    "plt.show()\n",
    "\n",
    "print('Best C', clf_cv.best_params_)"
   ]
  },
  {
   "cell_type": "code",
   "execution_count": 61,
   "metadata": {},
   "outputs": [
    {
     "name": "stdout",
     "output_type": "stream",
     "text": [
      "0.8506666666666667\n"
     ]
    },
    {
     "data": {
      "text/plain": [
       "array([[1113,   44],\n",
       "       [ 180,  163]])"
      ]
     },
     "execution_count": 61,
     "metadata": {},
     "output_type": "execute_result"
    }
   ],
   "source": [
    "from sklearn.metrics import accuracy_score\n",
    "clf = SVC(kernel = 'poly', C = 7.374736842105262).fit(Xtrain, Ytrain)\n",
    "print(accuracy_score(Ytest, clf.predict(Xtest)))\n",
    "confusion_matrix(Ytest,clf.predict(Xtest))"
   ]
  },
  {
   "cell_type": "code",
   "execution_count": 62,
   "metadata": {},
   "outputs": [
    {
     "name": "stdout",
     "output_type": "stream",
     "text": [
      "(1000, 1)\n",
      "\n",
      "processing model 0\n",
      "processing: 0 0.07538318634033203 s\n",
      "processing: 100 7.249972105026245 s\n",
      "processing: 200 14.435924053192139 s\n",
      "processing: 300 21.59224820137024 s\n",
      "processing: 400 28.72607707977295 s\n",
      "processing: 500 35.97762894630432 s\n",
      "processing: 600 43.20569705963135 s\n",
      "processing: 700 50.400413036346436 s\n",
      "processing: 800 57.62420105934143 s\n",
      "processing: 900 64.90984725952148 s\n",
      "time: 72.1050431728363 s\n"
     ]
    },
    {
     "data": {
      "text/html": [
       "<div>\n",
       "<style scoped>\n",
       "    .dataframe tbody tr th:only-of-type {\n",
       "        vertical-align: middle;\n",
       "    }\n",
       "\n",
       "    .dataframe tbody tr th {\n",
       "        vertical-align: top;\n",
       "    }\n",
       "\n",
       "    .dataframe thead th {\n",
       "        text-align: right;\n",
       "    }\n",
       "</style>\n",
       "<table border=\"1\" class=\"dataframe\">\n",
       "  <thead>\n",
       "    <tr style=\"text-align: right;\">\n",
       "      <th></th>\n",
       "      <th>SVM-Poly</th>\n",
       "    </tr>\n",
       "  </thead>\n",
       "  <tbody>\n",
       "    <tr>\n",
       "      <th>0</th>\n",
       "      <td>0.863333</td>\n",
       "    </tr>\n",
       "    <tr>\n",
       "      <th>1</th>\n",
       "      <td>0.844000</td>\n",
       "    </tr>\n",
       "    <tr>\n",
       "      <th>2</th>\n",
       "      <td>0.851333</td>\n",
       "    </tr>\n",
       "    <tr>\n",
       "      <th>3</th>\n",
       "      <td>0.859333</td>\n",
       "    </tr>\n",
       "    <tr>\n",
       "      <th>4</th>\n",
       "      <td>0.854000</td>\n",
       "    </tr>\n",
       "    <tr>\n",
       "      <th>...</th>\n",
       "      <td>...</td>\n",
       "    </tr>\n",
       "    <tr>\n",
       "      <th>995</th>\n",
       "      <td>0.855333</td>\n",
       "    </tr>\n",
       "    <tr>\n",
       "      <th>996</th>\n",
       "      <td>0.845333</td>\n",
       "    </tr>\n",
       "    <tr>\n",
       "      <th>997</th>\n",
       "      <td>0.849333</td>\n",
       "    </tr>\n",
       "    <tr>\n",
       "      <th>998</th>\n",
       "      <td>0.868667</td>\n",
       "    </tr>\n",
       "    <tr>\n",
       "      <th>999</th>\n",
       "      <td>0.864000</td>\n",
       "    </tr>\n",
       "  </tbody>\n",
       "</table>\n",
       "<p>1000 rows × 1 columns</p>\n",
       "</div>"
      ],
      "text/plain": [
       "     SVM-Poly\n",
       "0    0.863333\n",
       "1    0.844000\n",
       "2    0.851333\n",
       "3    0.859333\n",
       "4    0.854000\n",
       "..        ...\n",
       "995  0.855333\n",
       "996  0.845333\n",
       "997  0.849333\n",
       "998  0.868667\n",
       "999  0.864000\n",
       "\n",
       "[1000 rows x 1 columns]"
      ]
     },
     "execution_count": 62,
     "metadata": {},
     "output_type": "execute_result"
    }
   ],
   "source": [
    "tic = time.time()\n",
    "bs_output = bootstrap_validation(Xtest,Ytest,Ytrain,[clf],\n",
    "                                 metric = accuracy_score,\n",
    "                                 sample = 1000)\n",
    "print('time:', time.time()-tic, 's')\n",
    "bs_output.rename(columns = {0:'SVM-Poly'})"
   ]
  },
  {
   "cell_type": "code",
   "execution_count": 63,
   "metadata": {},
   "outputs": [
    {
     "name": "stdout",
     "output_type": "stream",
     "text": [
      "The 95% confidence interval of accuracy is  [0.832   0.86735] With mean accuracy 0.8506486666666668 Standard deviation 0.00946108452791985\n"
     ]
    },
    {
     "data": {
      "text/plain": [
       "<matplotlib.collections.LineCollection at 0x7fe7c204c310>"
      ]
     },
     "execution_count": 63,
     "metadata": {},
     "output_type": "execute_result"
    },
    {
     "data": {
      "image/png": "[encoded data removed]",
      "text/plain": [
       "<Figure size 432x288 with 1 Axes>"
      ]
     },
     "metadata": {
      "needs_background": "light"
     },
     "output_type": "display_data"
    }
   ],
   "source": [
    "CI_acc = np.quantile(bs_output.iloc[:,0],np.array([0.025,0.975]))\n",
    "mean_acc = np.mean(bs_output.iloc[:,0])\n",
    "std_acc = np.std(bs_output.iloc[:,0])\n",
    "fig,ax= plt.subplots()\n",
    "print(\"The 95% confidence interval of accuracy is \",CI_acc,\"With mean accuracy\",mean_acc, \"Standard deviation\",std_acc)\n",
    "#Plot Accuracy\n",
    "ax.set_xlabel('Boot Acc', fontsize=16)\n",
    "ax.set_ylabel('Count', fontsize=16)\n",
    "ax.hist(bs_output.iloc[:,0], bins=20,edgecolor='green', linewidth=2,color =\"grey\")\n",
    "ax.set_xlim([0.78,0.9])\n",
    "ax.vlines(x=CI_acc[0], ymin = 0, ymax =100, color = \"black\")\n",
    "ax.vlines(x=CI_acc[1], ymin = 0, ymax =100, color = \"black\")"
   ]
  },
  {
   "cell_type": "markdown",
   "metadata": {},
   "source": [
    "## SVM-RBF Kernel"
   ]
  },
  {
   "cell_type": "code",
   "execution_count": 64,
   "metadata": {
    "scrolled": true
   },
   "outputs": [
    {
     "name": "stdout",
     "output_type": "stream",
     "text": [
      "time: 32 s\n"
     ]
    }
   ],
   "source": [
    "import time\n",
    "from sklearn.model_selection import GridSearchCV\n",
    "from sklearn.svm import SVC\n",
    "\n",
    "grid_values = {'C': np.linspace(0.01,20,20)}\n",
    "\n",
    "tic = time.time()\n",
    "clf = SVC(kernel = 'rbf')\n",
    "clf_cv = GridSearchCV(clf, param_grid=grid_values, scoring='accuracy', cv=5, verbose=0)\n",
    "clf_cv.fit(Xtrain, Ytrain)\n",
    "toc = time.time()\n",
    "print('time:', round(toc-tic),'s')"
   ]
  },
  {
   "cell_type": "code",
   "execution_count": 65,
   "metadata": {},
   "outputs": [
    {
     "data": {
      "image/png": "[encoded data removed]",
      "text/plain": [
       "<Figure size 576x432 with 1 Axes>"
      ]
     },
     "metadata": {
      "needs_background": "light"
     },
     "output_type": "display_data"
    },
    {
     "name": "stdout",
     "output_type": "stream",
     "text": [
      "Best C {'C': 3.1663157894736838}\n"
     ]
    }
   ],
   "source": [
    "C = clf_cv.cv_results_['param_C'].data\n",
    "scores = clf_cv.cv_results_['mean_test_score']\n",
    "\n",
    "plt.figure(figsize=(8, 6))\n",
    "plt.xlabel('C', fontsize=16)\n",
    "plt.ylabel('CV accuracy_score', fontsize=16)\n",
    "plt.scatter(C, scores, s=30)\n",
    "plt.plot(C, scores, linewidth=3)\n",
    "plt.grid(True, which='both')\n",
    "# plt.xlim([0, 0.01])\n",
    "# plt.ylim([0.8, 1])\n",
    "\n",
    "plt.tight_layout()\n",
    "plt.show()\n",
    "\n",
    "print('Best C', clf_cv.best_params_)"
   ]
  },
  {
   "cell_type": "code",
   "execution_count": 66,
   "metadata": {},
   "outputs": [
    {
     "name": "stdout",
     "output_type": "stream",
     "text": [
      "0.842\n"
     ]
    },
    {
     "data": {
      "text/plain": [
       "array([[1115,   42],\n",
       "       [ 195,  148]])"
      ]
     },
     "execution_count": 66,
     "metadata": {},
     "output_type": "execute_result"
    }
   ],
   "source": [
    "from sklearn.metrics import accuracy_score\n",
    "clf = SVC(kernel = 'rbf', C = 3.1663157894736838).fit(Xtrain, Ytrain)\n",
    "print(accuracy_score(Ytest, clf.predict(Xtest)))\n",
    "confusion_matrix(Ytest,clf.predict(Xtest))"
   ]
  },
  {
   "cell_type": "code",
   "execution_count": 67,
   "metadata": {},
   "outputs": [
    {
     "name": "stdout",
     "output_type": "stream",
     "text": [
      "(1000, 1)\n",
      "\n",
      "processing model 0\n",
      "processing: 0 0.21592211723327637 s\n",
      "processing: 100 21.69857096672058 s\n",
      "processing: 200 43.03128504753113 s\n",
      "processing: 300 64.37419199943542 s\n",
      "processing: 400 85.6806960105896 s\n",
      "processing: 500 106.93821692466736 s\n",
      "processing: 600 128.11541295051575 s\n",
      "processing: 700 149.47802305221558 s\n",
      "processing: 800 170.69197988510132 s\n",
      "processing: 900 191.92799997329712 s\n",
      "time: 212.9585120677948 s\n"
     ]
    },
    {
     "data": {
      "text/html": [
       "<div>\n",
       "<style scoped>\n",
       "    .dataframe tbody tr th:only-of-type {\n",
       "        vertical-align: middle;\n",
       "    }\n",
       "\n",
       "    .dataframe tbody tr th {\n",
       "        vertical-align: top;\n",
       "    }\n",
       "\n",
       "    .dataframe thead th {\n",
       "        text-align: right;\n",
       "    }\n",
       "</style>\n",
       "<table border=\"1\" class=\"dataframe\">\n",
       "  <thead>\n",
       "    <tr style=\"text-align: right;\">\n",
       "      <th></th>\n",
       "      <th>SVM-RBF</th>\n",
       "    </tr>\n",
       "  </thead>\n",
       "  <tbody>\n",
       "    <tr>\n",
       "      <th>0</th>\n",
       "      <td>0.844667</td>\n",
       "    </tr>\n",
       "    <tr>\n",
       "      <th>1</th>\n",
       "      <td>0.853333</td>\n",
       "    </tr>\n",
       "    <tr>\n",
       "      <th>2</th>\n",
       "      <td>0.833333</td>\n",
       "    </tr>\n",
       "    <tr>\n",
       "      <th>3</th>\n",
       "      <td>0.842000</td>\n",
       "    </tr>\n",
       "    <tr>\n",
       "      <th>4</th>\n",
       "      <td>0.840667</td>\n",
       "    </tr>\n",
       "    <tr>\n",
       "      <th>...</th>\n",
       "      <td>...</td>\n",
       "    </tr>\n",
       "    <tr>\n",
       "      <th>995</th>\n",
       "      <td>0.840000</td>\n",
       "    </tr>\n",
       "    <tr>\n",
       "      <th>996</th>\n",
       "      <td>0.838667</td>\n",
       "    </tr>\n",
       "    <tr>\n",
       "      <th>997</th>\n",
       "      <td>0.850000</td>\n",
       "    </tr>\n",
       "    <tr>\n",
       "      <th>998</th>\n",
       "      <td>0.843333</td>\n",
       "    </tr>\n",
       "    <tr>\n",
       "      <th>999</th>\n",
       "      <td>0.835333</td>\n",
       "    </tr>\n",
       "  </tbody>\n",
       "</table>\n",
       "<p>1000 rows × 1 columns</p>\n",
       "</div>"
      ],
      "text/plain": [
       "      SVM-RBF\n",
       "0    0.844667\n",
       "1    0.853333\n",
       "2    0.833333\n",
       "3    0.842000\n",
       "4    0.840667\n",
       "..        ...\n",
       "995  0.840000\n",
       "996  0.838667\n",
       "997  0.850000\n",
       "998  0.843333\n",
       "999  0.835333\n",
       "\n",
       "[1000 rows x 1 columns]"
      ]
     },
     "execution_count": 67,
     "metadata": {},
     "output_type": "execute_result"
    }
   ],
   "source": [
    "tic = time.time()\n",
    "bs_output = bootstrap_validation(Xtest,Ytest,Ytrain,[clf],\n",
    "                                 metric = accuracy_score,\n",
    "                                 sample = 1000)\n",
    "print('time:', time.time()-tic, 's')\n",
    "bs_output.rename(columns = {0:'SVM-RBF'})"
   ]
  },
  {
   "cell_type": "code",
   "execution_count": 68,
   "metadata": {},
   "outputs": [
    {
     "name": "stdout",
     "output_type": "stream",
     "text": [
      "The 95% confidence interval of accuracy is  [0.824   0.85935] With mean accuracy 0.8419359999999998 Standard deviation 0.009222889014716481\n"
     ]
    },
    {
     "data": {
      "text/plain": [
       "<matplotlib.collections.LineCollection at 0x7fe7c1e390a0>"
      ]
     },
     "execution_count": 68,
     "metadata": {},
     "output_type": "execute_result"
    },
    {
     "data": {
      "image/png": "[encoded data removed]",
      "text/plain": [
       "<Figure size 432x288 with 1 Axes>"
      ]
     },
     "metadata": {
      "needs_background": "light"
     },
     "output_type": "display_data"
    }
   ],
   "source": [
    "CI_acc = np.quantile(bs_output.iloc[:,0],np.array([0.025,0.975]))\n",
    "mean_acc = np.mean(bs_output.iloc[:,0])\n",
    "std_acc = np.std(bs_output.iloc[:,0])\n",
    "fig,ax= plt.subplots()\n",
    "print(\"The 95% confidence interval of accuracy is \",CI_acc,\"With mean accuracy\",mean_acc, \"Standard deviation\",std_acc)\n",
    "#Plot Accuracy\n",
    "ax.set_xlabel('Boot Acc', fontsize=16)\n",
    "ax.set_ylabel('Count', fontsize=16)\n",
    "ax.hist(bs_output.iloc[:,0], bins=20,edgecolor='green', linewidth=2,color =\"grey\")\n",
    "ax.set_xlim([0.78,0.9])\n",
    "ax.vlines(x=CI_acc[0], ymin = 0, ymax =100, color = \"black\")\n",
    "ax.vlines(x=CI_acc[1], ymin = 0, ymax =100, color = \"black\")"
   ]
  },
  {
   "cell_type": "markdown",
   "metadata": {},
   "source": [
    "## Logistic Regression"
   ]
  },
  {
   "cell_type": "code",
   "execution_count": 69,
   "metadata": {
    "scrolled": true
   },
   "outputs": [
    {
     "name": "stdout",
     "output_type": "stream",
     "text": [
      "time: 38 s\n"
     ]
    }
   ],
   "source": [
    "import time\n",
    "from sklearn.model_selection import GridSearchCV\n",
    "from sklearn.linear_model import LogisticRegression\n",
    "\n",
    "grid_values = {'C': np.linspace(0, 1, 101)}\n",
    "\n",
    "tic = time.time()\n",
    "clf = LogisticRegression()\n",
    "clf_cv = GridSearchCV(clf, param_grid=grid_values, scoring='accuracy', cv=5, verbose=0)\n",
    "clf_cv.fit(Xtrain, Ytrain)\n",
    "toc = time.time()\n",
    "print('time:', round(toc-tic),'s')"
   ]
  },
  {
   "cell_type": "code",
   "execution_count": 70,
   "metadata": {},
   "outputs": [
    {
     "data": {
      "image/png": "[encoded data removed]",
      "text/plain": [
       "<Figure size 576x432 with 1 Axes>"
      ]
     },
     "metadata": {
      "needs_background": "light"
     },
     "output_type": "display_data"
    },
    {
     "name": "stdout",
     "output_type": "stream",
     "text": [
      "Best C {'C': 0.01}\n"
     ]
    }
   ],
   "source": [
    "C = clf_cv.cv_results_['param_C'].data\n",
    "scores = clf_cv.cv_results_['mean_test_score']\n",
    "\n",
    "plt.figure(figsize=(8, 6))\n",
    "plt.xlabel('C', fontsize=16)\n",
    "plt.ylabel('CV accuracy_score', fontsize=16)\n",
    "plt.scatter(C, scores, s=30)\n",
    "plt.plot(C, scores, linewidth=3)\n",
    "plt.grid(True, which='both')\n",
    "# plt.xlim([0, 0.01])\n",
    "# plt.ylim([0.8, 1])\n",
    "\n",
    "plt.tight_layout()\n",
    "plt.show()\n",
    "\n",
    "print('Best C', clf_cv.best_params_)"
   ]
  },
  {
   "cell_type": "code",
   "execution_count": 71,
   "metadata": {},
   "outputs": [
    {
     "name": "stdout",
     "output_type": "stream",
     "text": [
      "0.842\n"
     ]
    },
    {
     "data": {
      "text/plain": [
       "array([[1114,   43],\n",
       "       [ 194,  149]])"
      ]
     },
     "execution_count": 71,
     "metadata": {},
     "output_type": "execute_result"
    }
   ],
   "source": [
    "from sklearn.metrics import accuracy_score\n",
    "clf = LogisticRegression(C = 0.01).fit(Xtrain, Ytrain)\n",
    "print(accuracy_score(Ytest, clf.predict(Xtest)))\n",
    "confusion_matrix(Ytest,clf.predict(Xtest))"
   ]
  },
  {
   "cell_type": "code",
   "execution_count": 72,
   "metadata": {},
   "outputs": [
    {
     "name": "stdout",
     "output_type": "stream",
     "text": [
      "(1000, 1)\n",
      "\n",
      "processing model 0\n",
      "processing: 0 0.0026581287384033203 s\n",
      "processing: 100 0.1272289752960205 s\n",
      "processing: 200 0.24356579780578613 s\n",
      "processing: 300 0.3649008274078369 s\n",
      "processing: 400 0.48230981826782227 s\n",
      "processing: 500 0.6043820381164551 s\n",
      "processing: 600 0.7259540557861328 s\n",
      "processing: 700 0.8398280143737793 s\n",
      "processing: 800 0.9617390632629395 s\n",
      "processing: 900 1.0847387313842773 s\n",
      "time: 1.2019391059875488 s\n"
     ]
    },
    {
     "data": {
      "text/html": [
       "<div>\n",
       "<style scoped>\n",
       "    .dataframe tbody tr th:only-of-type {\n",
       "        vertical-align: middle;\n",
       "    }\n",
       "\n",
       "    .dataframe tbody tr th {\n",
       "        vertical-align: top;\n",
       "    }\n",
       "\n",
       "    .dataframe thead th {\n",
       "        text-align: right;\n",
       "    }\n",
       "</style>\n",
       "<table border=\"1\" class=\"dataframe\">\n",
       "  <thead>\n",
       "    <tr style=\"text-align: right;\">\n",
       "      <th></th>\n",
       "      <th>Logistic Regression</th>\n",
       "    </tr>\n",
       "  </thead>\n",
       "  <tbody>\n",
       "    <tr>\n",
       "      <th>0</th>\n",
       "      <td>0.843333</td>\n",
       "    </tr>\n",
       "    <tr>\n",
       "      <th>1</th>\n",
       "      <td>0.828000</td>\n",
       "    </tr>\n",
       "    <tr>\n",
       "      <th>2</th>\n",
       "      <td>0.832667</td>\n",
       "    </tr>\n",
       "    <tr>\n",
       "      <th>3</th>\n",
       "      <td>0.842667</td>\n",
       "    </tr>\n",
       "    <tr>\n",
       "      <th>4</th>\n",
       "      <td>0.832667</td>\n",
       "    </tr>\n",
       "    <tr>\n",
       "      <th>...</th>\n",
       "      <td>...</td>\n",
       "    </tr>\n",
       "    <tr>\n",
       "      <th>995</th>\n",
       "      <td>0.857333</td>\n",
       "    </tr>\n",
       "    <tr>\n",
       "      <th>996</th>\n",
       "      <td>0.852000</td>\n",
       "    </tr>\n",
       "    <tr>\n",
       "      <th>997</th>\n",
       "      <td>0.829333</td>\n",
       "    </tr>\n",
       "    <tr>\n",
       "      <th>998</th>\n",
       "      <td>0.848000</td>\n",
       "    </tr>\n",
       "    <tr>\n",
       "      <th>999</th>\n",
       "      <td>0.836000</td>\n",
       "    </tr>\n",
       "  </tbody>\n",
       "</table>\n",
       "<p>1000 rows × 1 columns</p>\n",
       "</div>"
      ],
      "text/plain": [
       "     Logistic Regression\n",
       "0               0.843333\n",
       "1               0.828000\n",
       "2               0.832667\n",
       "3               0.842667\n",
       "4               0.832667\n",
       "..                   ...\n",
       "995             0.857333\n",
       "996             0.852000\n",
       "997             0.829333\n",
       "998             0.848000\n",
       "999             0.836000\n",
       "\n",
       "[1000 rows x 1 columns]"
      ]
     },
     "execution_count": 72,
     "metadata": {},
     "output_type": "execute_result"
    }
   ],
   "source": [
    "tic = time.time()\n",
    "bs_output = bootstrap_validation(Xtest,Ytest,Ytrain,[clf],\n",
    "                                 metric = accuracy_score,\n",
    "                                 sample = 1000)\n",
    "print('time:', time.time()-tic, 's')\n",
    "bs_output.rename(columns = {0:'Logistic Regression'})"
   ]
  },
  {
   "cell_type": "code",
   "execution_count": 73,
   "metadata": {},
   "outputs": [
    {
     "name": "stdout",
     "output_type": "stream",
     "text": [
      "The 95% confidence interval of accuracy is  [0.82466667 0.86133333] With mean accuracy 0.8426793333333324 Standard deviation 0.009511505056742843\n"
     ]
    },
    {
     "data": {
      "text/plain": [
       "<matplotlib.collections.LineCollection at 0x7fe7d19f9dc0>"
      ]
     },
     "execution_count": 73,
     "metadata": {},
     "output_type": "execute_result"
    },
    {
     "data": {
      "image/png": "[encoded data removed]",
      "text/plain": [
       "<Figure size 432x288 with 1 Axes>"
      ]
     },
     "metadata": {
      "needs_background": "light"
     },
     "output_type": "display_data"
    }
   ],
   "source": [
    "CI_acc = np.quantile(bs_output.iloc[:,0],np.array([0.025,0.975]))\n",
    "mean_acc = np.mean(bs_output.iloc[:,0])\n",
    "std_acc = np.std(bs_output.iloc[:,0])\n",
    "fig,ax= plt.subplots()\n",
    "print(\"The 95% confidence interval of accuracy is \",CI_acc,\"With mean accuracy\",mean_acc, \"Standard deviation\",std_acc)\n",
    "#Plot Accuracy\n",
    "ax.set_xlabel('Boot Acc', fontsize=16)\n",
    "ax.set_ylabel('Count', fontsize=16)\n",
    "ax.hist(bs_output.iloc[:,0], bins=20,edgecolor='green', linewidth=2,color =\"grey\")\n",
    "ax.set_xlim([0.78,0.9])\n",
    "ax.vlines(x=CI_acc[0], ymin = 0, ymax =100, color = \"black\")\n",
    "ax.vlines(x=CI_acc[1], ymin = 0, ymax =100, color = \"black\")"
   ]
  },
  {
   "cell_type": "markdown",
   "metadata": {},
   "source": [
    "## CART"
   ]
  },
  {
   "cell_type": "code",
   "execution_count": 74,
   "metadata": {
    "scrolled": true
   },
   "outputs": [
    {
     "name": "stdout",
     "output_type": "stream",
     "text": [
      "time: 12 s\n"
     ]
    }
   ],
   "source": [
    "import time\n",
    "from sklearn.model_selection import GridSearchCV\n",
    "from sklearn.tree import DecisionTreeClassifier\n",
    "\n",
    "grid_values = {'ccp_alpha': np.linspace(0, 0.01, 101)}\n",
    "\n",
    "tic = time.time()\n",
    "clf = DecisionTreeClassifier()\n",
    "clf_cv = GridSearchCV(clf, param_grid=grid_values, scoring='accuracy', cv=5, verbose=0)\n",
    "clf_cv.fit(Xtrain, Ytrain)\n",
    "toc = time.time()\n",
    "print('time:', round(toc-tic),'s')"
   ]
  },
  {
   "cell_type": "code",
   "execution_count": 75,
   "metadata": {},
   "outputs": [
    {
     "data": {
      "image/png": "[encoded data removed]",
      "text/plain": [
       "<Figure size 576x432 with 1 Axes>"
      ]
     },
     "metadata": {
      "needs_background": "light"
     },
     "output_type": "display_data"
    },
    {
     "name": "stdout",
     "output_type": "stream",
     "text": [
      "Best ccp_alpha {'ccp_alpha': 0.0033}\n"
     ]
    }
   ],
   "source": [
    "ccp_alpha = clf_cv.cv_results_['param_ccp_alpha'].data\n",
    "scores = clf_cv.cv_results_['mean_test_score']\n",
    "\n",
    "plt.figure(figsize=(8, 6))\n",
    "plt.xlabel('ccp_alpha', fontsize=16)\n",
    "plt.ylabel('CV accuracy_score', fontsize=16)\n",
    "plt.scatter(ccp_alpha, scores, s=30)\n",
    "plt.plot(ccp_alpha, scores, linewidth=3)\n",
    "plt.grid(True, which='both')\n",
    "# plt.xlim([0, 0.01])\n",
    "# plt.ylim([0.8, 1])\n",
    "\n",
    "plt.tight_layout()\n",
    "plt.show()\n",
    "\n",
    "print('Best ccp_alpha', clf_cv.best_params_)"
   ]
  },
  {
   "cell_type": "code",
   "execution_count": 76,
   "metadata": {},
   "outputs": [
    {
     "name": "stdout",
     "output_type": "stream",
     "text": [
      "0.824\n"
     ]
    },
    {
     "data": {
      "text/plain": [
       "array([[1122,   35],\n",
       "       [ 229,  114]])"
      ]
     },
     "execution_count": 76,
     "metadata": {},
     "output_type": "execute_result"
    }
   ],
   "source": [
    "from sklearn.metrics import accuracy_score\n",
    "clf = DecisionTreeClassifier(ccp_alpha = 0.0033).fit(Xtrain, Ytrain)\n",
    "print(accuracy_score(Ytest, clf.predict(Xtest)))\n",
    "confusion_matrix(Ytest,clf.predict(Xtest))"
   ]
  },
  {
   "cell_type": "code",
   "execution_count": 77,
   "metadata": {},
   "outputs": [
    {
     "name": "stdout",
     "output_type": "stream",
     "text": [
      "(1000, 1)\n",
      "\n",
      "processing model 0\n",
      "processing: 0 0.002400636672973633 s\n",
      "processing: 100 0.11447381973266602 s\n",
      "processing: 200 0.22918295860290527 s\n",
      "processing: 300 0.34055566787719727 s\n",
      "processing: 400 0.45401668548583984 s\n",
      "processing: 500 0.56754469871521 s\n",
      "processing: 600 0.681056022644043 s\n",
      "processing: 700 0.7864856719970703 s\n",
      "processing: 800 0.8957686424255371 s\n",
      "processing: 900 1.0048797130584717 s\n",
      "time: 1.110846996307373 s\n"
     ]
    },
    {
     "data": {
      "text/html": [
       "<div>\n",
       "<style scoped>\n",
       "    .dataframe tbody tr th:only-of-type {\n",
       "        vertical-align: middle;\n",
       "    }\n",
       "\n",
       "    .dataframe tbody tr th {\n",
       "        vertical-align: top;\n",
       "    }\n",
       "\n",
       "    .dataframe thead th {\n",
       "        text-align: right;\n",
       "    }\n",
       "</style>\n",
       "<table border=\"1\" class=\"dataframe\">\n",
       "  <thead>\n",
       "    <tr style=\"text-align: right;\">\n",
       "      <th></th>\n",
       "      <th>CART</th>\n",
       "    </tr>\n",
       "  </thead>\n",
       "  <tbody>\n",
       "    <tr>\n",
       "      <th>0</th>\n",
       "      <td>0.828000</td>\n",
       "    </tr>\n",
       "    <tr>\n",
       "      <th>1</th>\n",
       "      <td>0.814000</td>\n",
       "    </tr>\n",
       "    <tr>\n",
       "      <th>2</th>\n",
       "      <td>0.839333</td>\n",
       "    </tr>\n",
       "    <tr>\n",
       "      <th>3</th>\n",
       "      <td>0.821333</td>\n",
       "    </tr>\n",
       "    <tr>\n",
       "      <th>4</th>\n",
       "      <td>0.814000</td>\n",
       "    </tr>\n",
       "    <tr>\n",
       "      <th>...</th>\n",
       "      <td>...</td>\n",
       "    </tr>\n",
       "    <tr>\n",
       "      <th>995</th>\n",
       "      <td>0.824000</td>\n",
       "    </tr>\n",
       "    <tr>\n",
       "      <th>996</th>\n",
       "      <td>0.819333</td>\n",
       "    </tr>\n",
       "    <tr>\n",
       "      <th>997</th>\n",
       "      <td>0.829333</td>\n",
       "    </tr>\n",
       "    <tr>\n",
       "      <th>998</th>\n",
       "      <td>0.808000</td>\n",
       "    </tr>\n",
       "    <tr>\n",
       "      <th>999</th>\n",
       "      <td>0.826000</td>\n",
       "    </tr>\n",
       "  </tbody>\n",
       "</table>\n",
       "<p>1000 rows × 1 columns</p>\n",
       "</div>"
      ],
      "text/plain": [
       "         CART\n",
       "0    0.828000\n",
       "1    0.814000\n",
       "2    0.839333\n",
       "3    0.821333\n",
       "4    0.814000\n",
       "..        ...\n",
       "995  0.824000\n",
       "996  0.819333\n",
       "997  0.829333\n",
       "998  0.808000\n",
       "999  0.826000\n",
       "\n",
       "[1000 rows x 1 columns]"
      ]
     },
     "execution_count": 77,
     "metadata": {},
     "output_type": "execute_result"
    }
   ],
   "source": [
    "tic = time.time()\n",
    "bs_output = bootstrap_validation(Xtest,Ytest,Ytrain,[clf],\n",
    "                                 metric = accuracy_score,\n",
    "                                 sample = 1000)\n",
    "print('time:', time.time()-tic, 's')\n",
    "bs_output.rename(columns = {0:'CART'})"
   ]
  },
  {
   "cell_type": "code",
   "execution_count": 78,
   "metadata": {},
   "outputs": [
    {
     "name": "stdout",
     "output_type": "stream",
     "text": [
      "The 95% confidence interval of accuracy is  [0.806      0.84333333] With mean accuracy 0.824438000000001 Standard deviation 0.009498803456810288\n"
     ]
    },
    {
     "data": {
      "text/plain": [
       "<matplotlib.collections.LineCollection at 0x7fe7b0466280>"
      ]
     },
     "execution_count": 78,
     "metadata": {},
     "output_type": "execute_result"
    },
    {
     "data": {
      "image/png": "[encoded data removed]",
      "text/plain": [
       "<Figure size 432x288 with 1 Axes>"
      ]
     },
     "metadata": {
      "needs_background": "light"
     },
     "output_type": "display_data"
    }
   ],
   "source": [
    "CI_acc = np.quantile(bs_output.iloc[:,0],np.array([0.025,0.975]))\n",
    "mean_acc = np.mean(bs_output.iloc[:,0])\n",
    "std_acc = np.std(bs_output.iloc[:,0])\n",
    "fig,ax= plt.subplots()\n",
    "print(\"The 95% confidence interval of accuracy is \",CI_acc,\"With mean accuracy\",mean_acc, \"Standard deviation\",std_acc)\n",
    "#Plot Accuracy\n",
    "ax.set_xlabel('Boot Acc', fontsize=16)\n",
    "ax.set_ylabel('Count', fontsize=16)\n",
    "ax.hist(bs_output.iloc[:,0], bins=20,edgecolor='green', linewidth=2,color =\"grey\")\n",
    "ax.set_xlim([0.78,0.9])\n",
    "ax.vlines(x=CI_acc[0], ymin = 0, ymax =100, color = \"black\")\n",
    "ax.vlines(x=CI_acc[1], ymin = 0, ymax =100, color = \"black\")"
   ]
  },
  {
   "cell_type": "markdown",
   "metadata": {},
   "source": [
    "## Random Forest"
   ]
  },
  {
   "cell_type": "code",
   "execution_count": 79,
   "metadata": {
    "scrolled": true
   },
   "outputs": [
    {
     "name": "stdout",
     "output_type": "stream",
     "text": [
      "time: 104 s\n"
     ]
    }
   ],
   "source": [
    "import time\n",
    "from sklearn.model_selection import GridSearchCV\n",
    "from sklearn.ensemble import RandomForestClassifier\n",
    "\n",
    "grid_values = {'ccp_alpha': np.linspace(0, 0.01, 10)}\n",
    "\n",
    "tic = time.time()\n",
    "clf = RandomForestClassifier(n_estimators=500)\n",
    "clf_cv = GridSearchCV(clf, param_grid=grid_values, scoring='accuracy', cv=5, verbose=0)\n",
    "clf_cv.fit(Xtrain, Ytrain)\n",
    "toc = time.time()\n",
    "print('time:', round(toc-tic),'s')"
   ]
  },
  {
   "cell_type": "code",
   "execution_count": 80,
   "metadata": {},
   "outputs": [
    {
     "data": {
      "image/png": "[encoded data removed]",
      "text/plain": [
       "<Figure size 576x432 with 1 Axes>"
      ]
     },
     "metadata": {
      "needs_background": "light"
     },
     "output_type": "display_data"
    },
    {
     "name": "stdout",
     "output_type": "stream",
     "text": [
      "Best ccp_alpha {'ccp_alpha': 0.0}\n"
     ]
    }
   ],
   "source": [
    "ccp_alpha = clf_cv.cv_results_['param_ccp_alpha'].data\n",
    "scores = clf_cv.cv_results_['mean_test_score']\n",
    "\n",
    "plt.figure(figsize=(8, 6))\n",
    "plt.xlabel('ccp_alpha', fontsize=16)\n",
    "plt.ylabel('CV accuracy_score', fontsize=16)\n",
    "plt.scatter(ccp_alpha, scores, s=30)\n",
    "plt.plot(ccp_alpha, scores, linewidth=3)\n",
    "plt.grid(True, which='both')\n",
    "# plt.xlim([0, 0.01])\n",
    "# plt.ylim([0.8, 1])\n",
    "\n",
    "plt.tight_layout()\n",
    "plt.show()\n",
    "\n",
    "print('Best ccp_alpha', clf_cv.best_params_)"
   ]
  },
  {
   "cell_type": "code",
   "execution_count": 81,
   "metadata": {},
   "outputs": [
    {
     "name": "stdout",
     "output_type": "stream",
     "text": [
      "0.8526666666666667\n"
     ]
    },
    {
     "data": {
      "text/plain": [
       "array([[1115,   42],\n",
       "       [ 179,  164]])"
      ]
     },
     "execution_count": 81,
     "metadata": {},
     "output_type": "execute_result"
    }
   ],
   "source": [
    "from sklearn.metrics import accuracy_score\n",
    "clf = RandomForestClassifier(ccp_alpha = 0.0).fit(Xtrain, Ytrain)\n",
    "print(accuracy_score(Ytest, clf.predict(Xtest)))\n",
    "confusion_matrix(Ytest,clf.predict(Xtest))"
   ]
  },
  {
   "cell_type": "code",
   "execution_count": 82,
   "metadata": {},
   "outputs": [
    {
     "name": "stdout",
     "output_type": "stream",
     "text": [
      "(1000, 1)\n",
      "\n",
      "processing model 0\n",
      "processing: 0 0.02374124526977539 s\n",
      "processing: 100 2.1641221046447754 s\n",
      "processing: 200 4.206992149353027 s\n",
      "processing: 300 6.2084550857543945 s\n",
      "processing: 400 8.144779920578003 s\n",
      "processing: 500 10.095315933227539 s\n",
      "processing: 600 12.051844120025635 s\n",
      "processing: 700 13.99622392654419 s\n",
      "processing: 800 15.936277866363525 s\n",
      "processing: 900 17.862144947052002 s\n",
      "time: 19.75495481491089 s\n"
     ]
    },
    {
     "data": {
      "text/html": [
       "<div>\n",
       "<style scoped>\n",
       "    .dataframe tbody tr th:only-of-type {\n",
       "        vertical-align: middle;\n",
       "    }\n",
       "\n",
       "    .dataframe tbody tr th {\n",
       "        vertical-align: top;\n",
       "    }\n",
       "\n",
       "    .dataframe thead th {\n",
       "        text-align: right;\n",
       "    }\n",
       "</style>\n",
       "<table border=\"1\" class=\"dataframe\">\n",
       "  <thead>\n",
       "    <tr style=\"text-align: right;\">\n",
       "      <th></th>\n",
       "      <th>Random Forest</th>\n",
       "    </tr>\n",
       "  </thead>\n",
       "  <tbody>\n",
       "    <tr>\n",
       "      <th>0</th>\n",
       "      <td>0.849333</td>\n",
       "    </tr>\n",
       "    <tr>\n",
       "      <th>1</th>\n",
       "      <td>0.833333</td>\n",
       "    </tr>\n",
       "    <tr>\n",
       "      <th>2</th>\n",
       "      <td>0.844667</td>\n",
       "    </tr>\n",
       "    <tr>\n",
       "      <th>3</th>\n",
       "      <td>0.860000</td>\n",
       "    </tr>\n",
       "    <tr>\n",
       "      <th>4</th>\n",
       "      <td>0.855333</td>\n",
       "    </tr>\n",
       "    <tr>\n",
       "      <th>...</th>\n",
       "      <td>...</td>\n",
       "    </tr>\n",
       "    <tr>\n",
       "      <th>995</th>\n",
       "      <td>0.866000</td>\n",
       "    </tr>\n",
       "    <tr>\n",
       "      <th>996</th>\n",
       "      <td>0.861333</td>\n",
       "    </tr>\n",
       "    <tr>\n",
       "      <th>997</th>\n",
       "      <td>0.846000</td>\n",
       "    </tr>\n",
       "    <tr>\n",
       "      <th>998</th>\n",
       "      <td>0.851333</td>\n",
       "    </tr>\n",
       "    <tr>\n",
       "      <th>999</th>\n",
       "      <td>0.857333</td>\n",
       "    </tr>\n",
       "  </tbody>\n",
       "</table>\n",
       "<p>1000 rows × 1 columns</p>\n",
       "</div>"
      ],
      "text/plain": [
       "     Random Forest\n",
       "0         0.849333\n",
       "1         0.833333\n",
       "2         0.844667\n",
       "3         0.860000\n",
       "4         0.855333\n",
       "..             ...\n",
       "995       0.866000\n",
       "996       0.861333\n",
       "997       0.846000\n",
       "998       0.851333\n",
       "999       0.857333\n",
       "\n",
       "[1000 rows x 1 columns]"
      ]
     },
     "execution_count": 82,
     "metadata": {},
     "output_type": "execute_result"
    }
   ],
   "source": [
    "tic = time.time()\n",
    "bs_output = bootstrap_validation(Xtest,Ytest,Ytrain,[clf],\n",
    "                                 metric = accuracy_score,\n",
    "                                 sample = 1000)\n",
    "print('time:', time.time()-tic, 's')\n",
    "bs_output.rename(columns = {0:'Random Forest'})"
   ]
  },
  {
   "cell_type": "code",
   "execution_count": 83,
   "metadata": {},
   "outputs": [
    {
     "name": "stdout",
     "output_type": "stream",
     "text": [
      "The 95% confidence interval of accuracy is  [0.832 0.87 ] With mean accuracy 0.8523186666666658 Standard deviation 0.009478478921571028\n"
     ]
    },
    {
     "data": {
      "text/plain": [
       "<matplotlib.collections.LineCollection at 0x7fe7c2155430>"
      ]
     },
     "execution_count": 83,
     "metadata": {},
     "output_type": "execute_result"
    },
    {
     "data": {
      "image/png": "[encoded data removed]",
      "text/plain": [
       "<Figure size 432x288 with 1 Axes>"
      ]
     },
     "metadata": {
      "needs_background": "light"
     },
     "output_type": "display_data"
    }
   ],
   "source": [
    "CI_acc = np.quantile(bs_output.iloc[:,0],np.array([0.025,0.975]))\n",
    "mean_acc = np.mean(bs_output.iloc[:,0])\n",
    "std_acc = np.std(bs_output.iloc[:,0])\n",
    "fig,ax= plt.subplots()\n",
    "print(\"The 95% confidence interval of accuracy is \",CI_acc,\"With mean accuracy\",mean_acc, \"Standard deviation\",std_acc)\n",
    "#Plot Accuracy\n",
    "ax.set_xlabel('Boot Acc', fontsize=16)\n",
    "ax.set_ylabel('Count', fontsize=16)\n",
    "ax.hist(bs_output.iloc[:,0], bins=20,edgecolor='green', linewidth=2,color =\"grey\")\n",
    "ax.set_xlim([0.78,0.9])\n",
    "ax.vlines(x=CI_acc[0], ymin = 0, ymax =100, color = \"black\")\n",
    "ax.vlines(x=CI_acc[1], ymin = 0, ymax =100, color = \"black\")"
   ]
  },
  {
   "cell_type": "markdown",
   "metadata": {},
   "source": [
    "## Gradient Boosting Tree"
   ]
  },
  {
   "cell_type": "code",
   "execution_count": 84,
   "metadata": {
    "scrolled": true
   },
   "outputs": [
    {
     "name": "stdout",
     "output_type": "stream",
     "text": [
      "time: 139 s\n"
     ]
    }
   ],
   "source": [
    "import time\n",
    "from sklearn.model_selection import GridSearchCV\n",
    "from sklearn.ensemble import GradientBoostingClassifier\n",
    "\n",
    "grid_values = {'ccp_alpha': np.linspace(0, 0.01, 10)}\n",
    "\n",
    "tic = time.time()\n",
    "clf = GradientBoostingClassifier(n_estimators=500)\n",
    "clf_cv = GridSearchCV(clf, param_grid=grid_values, scoring='accuracy', cv=5, verbose=0)\n",
    "clf_cv.fit(Xtrain, Ytrain)\n",
    "toc = time.time()\n",
    "print('time:', round(toc-tic),'s')"
   ]
  },
  {
   "cell_type": "code",
   "execution_count": 85,
   "metadata": {},
   "outputs": [
    {
     "data": {
      "image/png": "[encoded data removed]",
      "text/plain": [
       "<Figure size 576x432 with 1 Axes>"
      ]
     },
     "metadata": {
      "needs_background": "light"
     },
     "output_type": "display_data"
    },
    {
     "name": "stdout",
     "output_type": "stream",
     "text": [
      "Best ccp_alpha {'ccp_alpha': 0.0}\n"
     ]
    }
   ],
   "source": [
    "ccp_alpha = clf_cv.cv_results_['param_ccp_alpha'].data\n",
    "scores = clf_cv.cv_results_['mean_test_score']\n",
    "\n",
    "plt.figure(figsize=(8, 6))\n",
    "plt.xlabel('ccp_alpha', fontsize=16)\n",
    "plt.ylabel('CV accuracy_score', fontsize=16)\n",
    "plt.scatter(ccp_alpha, scores, s=30)\n",
    "plt.plot(ccp_alpha, scores, linewidth=3)\n",
    "plt.grid(True, which='both')\n",
    "# plt.xlim([0, 0.01])\n",
    "# plt.ylim([0.8, 1])\n",
    "\n",
    "plt.tight_layout()\n",
    "plt.show()\n",
    "\n",
    "print('Best ccp_alpha', clf_cv.best_params_)"
   ]
  },
  {
   "cell_type": "code",
   "execution_count": 86,
   "metadata": {},
   "outputs": [
    {
     "name": "stdout",
     "output_type": "stream",
     "text": [
      "0.8513333333333334\n"
     ]
    },
    {
     "data": {
      "text/plain": [
       "array([[1102,   55],\n",
       "       [ 168,  175]])"
      ]
     },
     "execution_count": 86,
     "metadata": {},
     "output_type": "execute_result"
    }
   ],
   "source": [
    "from sklearn.metrics import accuracy_score\n",
    "clf = GradientBoostingClassifier(ccp_alpha = 0.0).fit(Xtrain, Ytrain)\n",
    "print(accuracy_score(Ytest, clf.predict(Xtest)))\n",
    "confusion_matrix(Ytest,clf.predict(Xtest))"
   ]
  },
  {
   "cell_type": "code",
   "execution_count": 87,
   "metadata": {},
   "outputs": [
    {
     "name": "stdout",
     "output_type": "stream",
     "text": [
      "(1000, 1)\n",
      "\n",
      "processing model 0\n",
      "processing: 0 0.0044422149658203125 s\n",
      "processing: 100 0.29665517807006836 s\n",
      "processing: 200 0.6427130699157715 s\n",
      "processing: 300 0.9434082508087158 s\n",
      "processing: 400 1.2372932434082031 s\n",
      "processing: 500 1.5368051528930664 s\n",
      "processing: 600 1.814634084701538 s\n",
      "processing: 700 2.0976510047912598 s\n",
      "processing: 800 2.391953229904175 s\n",
      "processing: 900 2.684612274169922 s\n",
      "time: 2.972226142883301 s\n"
     ]
    },
    {
     "data": {
      "text/html": [
       "<div>\n",
       "<style scoped>\n",
       "    .dataframe tbody tr th:only-of-type {\n",
       "        vertical-align: middle;\n",
       "    }\n",
       "\n",
       "    .dataframe tbody tr th {\n",
       "        vertical-align: top;\n",
       "    }\n",
       "\n",
       "    .dataframe thead th {\n",
       "        text-align: right;\n",
       "    }\n",
       "</style>\n",
       "<table border=\"1\" class=\"dataframe\">\n",
       "  <thead>\n",
       "    <tr style=\"text-align: right;\">\n",
       "      <th></th>\n",
       "      <th>Gradient Boosting</th>\n",
       "    </tr>\n",
       "  </thead>\n",
       "  <tbody>\n",
       "    <tr>\n",
       "      <th>0</th>\n",
       "      <td>0.864667</td>\n",
       "    </tr>\n",
       "    <tr>\n",
       "      <th>1</th>\n",
       "      <td>0.848000</td>\n",
       "    </tr>\n",
       "    <tr>\n",
       "      <th>2</th>\n",
       "      <td>0.860000</td>\n",
       "    </tr>\n",
       "    <tr>\n",
       "      <th>3</th>\n",
       "      <td>0.855333</td>\n",
       "    </tr>\n",
       "    <tr>\n",
       "      <th>4</th>\n",
       "      <td>0.848000</td>\n",
       "    </tr>\n",
       "    <tr>\n",
       "      <th>...</th>\n",
       "      <td>...</td>\n",
       "    </tr>\n",
       "    <tr>\n",
       "      <th>995</th>\n",
       "      <td>0.842667</td>\n",
       "    </tr>\n",
       "    <tr>\n",
       "      <th>996</th>\n",
       "      <td>0.862667</td>\n",
       "    </tr>\n",
       "    <tr>\n",
       "      <th>997</th>\n",
       "      <td>0.852667</td>\n",
       "    </tr>\n",
       "    <tr>\n",
       "      <th>998</th>\n",
       "      <td>0.847333</td>\n",
       "    </tr>\n",
       "    <tr>\n",
       "      <th>999</th>\n",
       "      <td>0.845333</td>\n",
       "    </tr>\n",
       "  </tbody>\n",
       "</table>\n",
       "<p>1000 rows × 1 columns</p>\n",
       "</div>"
      ],
      "text/plain": [
       "     Gradient Boosting\n",
       "0             0.864667\n",
       "1             0.848000\n",
       "2             0.860000\n",
       "3             0.855333\n",
       "4             0.848000\n",
       "..                 ...\n",
       "995           0.842667\n",
       "996           0.862667\n",
       "997           0.852667\n",
       "998           0.847333\n",
       "999           0.845333\n",
       "\n",
       "[1000 rows x 1 columns]"
      ]
     },
     "execution_count": 87,
     "metadata": {},
     "output_type": "execute_result"
    }
   ],
   "source": [
    "tic = time.time()\n",
    "bs_output = bootstrap_validation(Xtest,Ytest,Ytrain,[clf],\n",
    "                                 metric = accuracy_score,\n",
    "                                 sample = 1000)\n",
    "print('time:', time.time()-tic, 's')\n",
    "bs_output.rename(columns = {0:'Gradient Boosting'})"
   ]
  },
  {
   "cell_type": "code",
   "execution_count": 88,
   "metadata": {},
   "outputs": [
    {
     "name": "stdout",
     "output_type": "stream",
     "text": [
      "The 95% confidence interval of accuracy is  [0.83066667 0.87      ] With mean accuracy 0.851251333333333 Standard deviation 0.009683752050614352\n"
     ]
    },
    {
     "data": {
      "text/plain": [
       "<matplotlib.collections.LineCollection at 0x7fe77002af10>"
      ]
     },
     "execution_count": 88,
     "metadata": {},
     "output_type": "execute_result"
    },
    {
     "data": {
      "image/png": "[encoded data removed]",
      "text/plain": [
       "<Figure size 432x288 with 1 Axes>"
      ]
     },
     "metadata": {
      "needs_background": "light"
     },
     "output_type": "display_data"
    }
   ],
   "source": [
    "CI_acc = np.quantile(bs_output.iloc[:,0],np.array([0.025,0.975]))\n",
    "mean_acc = np.mean(bs_output.iloc[:,0])\n",
    "std_acc = np.std(bs_output.iloc[:,0])\n",
    "fig,ax= plt.subplots()\n",
    "print(\"The 95% confidence interval of accuracy is \",CI_acc,\"With mean accuracy\",mean_acc, \"Standard deviation\",std_acc)\n",
    "#Plot Accuracy\n",
    "ax.set_xlabel('Boot Acc', fontsize=16)\n",
    "ax.set_ylabel('Count', fontsize=16)\n",
    "ax.hist(bs_output.iloc[:,0], bins=20,edgecolor='green', linewidth=2,color =\"grey\")\n",
    "ax.set_xlim([0.78,0.9])\n",
    "ax.vlines(x=CI_acc[0], ymin = 0, ymax =100, color = \"black\")\n",
    "ax.vlines(x=CI_acc[1], ymin = 0, ymax =100, color = \"black\")"
   ]
  },
  {
   "cell_type": "markdown",
   "metadata": {},
   "source": [
    "## XGBoost"
   ]
  },
  {
   "cell_type": "code",
   "execution_count": 89,
   "metadata": {
    "scrolled": true
   },
   "outputs": [
    {
     "name": "stdout",
     "output_type": "stream",
     "text": [
      "time: 97 s\n"
     ]
    }
   ],
   "source": [
    "# learning rate\n",
    "import time\n",
    "from sklearn.model_selection import GridSearchCV\n",
    "from xgboost import XGBClassifier\n",
    "\n",
    "grid_values = {'learning_rate': np.logspace(-2, 0, 10)}\n",
    "\n",
    "tic = time.time()\n",
    "clf = XGBClassifier(n_estimators=500, eval_metric = 'logloss')\n",
    "clf_cv = GridSearchCV(clf, param_grid=grid_values, scoring='accuracy', cv=5, verbose=0)\n",
    "clf_cv.fit(Xtrain, Ytrain)\n",
    "toc = time.time()\n",
    "print('time:', round(toc-tic),'s')"
   ]
  },
  {
   "cell_type": "code",
   "execution_count": 90,
   "metadata": {},
   "outputs": [
    {
     "data": {
      "image/png": "[encoded data removed]",
      "text/plain": [
       "<Figure size 576x432 with 1 Axes>"
      ]
     },
     "metadata": {
      "needs_background": "light"
     },
     "output_type": "display_data"
    },
    {
     "name": "stdout",
     "output_type": "stream",
     "text": [
      "Best learning_rate {'learning_rate': 0.046415888336127774}\n"
     ]
    }
   ],
   "source": [
    "learning_rate = clf_cv.cv_results_['param_learning_rate'].data\n",
    "scores = clf_cv.cv_results_['mean_test_score']\n",
    "\n",
    "plt.figure(figsize=(8, 6))\n",
    "plt.xlabel('learning_rate', fontsize=16)\n",
    "plt.ylabel('CV accuracy_score', fontsize=16)\n",
    "plt.scatter(learning_rate, scores, s=30)\n",
    "plt.plot(learning_rate, scores, linewidth=3)\n",
    "plt.grid(True, which='both')\n",
    "# plt.xlim([0, 0.01])\n",
    "# plt.ylim([0.8, 1])\n",
    "\n",
    "plt.tight_layout()\n",
    "plt.show()\n",
    "\n",
    "print('Best learning_rate', clf_cv.best_params_)"
   ]
  },
  {
   "cell_type": "code",
   "execution_count": 91,
   "metadata": {
    "scrolled": true
   },
   "outputs": [
    {
     "name": "stdout",
     "output_type": "stream",
     "text": [
      "time: 166 s\n"
     ]
    }
   ],
   "source": [
    "# max_depth\n",
    "import time\n",
    "from sklearn.model_selection import GridSearchCV\n",
    "from xgboost import XGBClassifier\n",
    "\n",
    "grid_values = {'max_depth': range(1,20)}\n",
    "\n",
    "tic = time.time()\n",
    "clf = XGBClassifier(n_estimators=500, eval_metric = 'logloss')\n",
    "clf_cv = GridSearchCV(clf, param_grid=grid_values, scoring='accuracy', cv=5, verbose=0)\n",
    "clf_cv.fit(Xtrain, Ytrain)\n",
    "toc = time.time()\n",
    "print('time:', round(toc-tic),'s')"
   ]
  },
  {
   "cell_type": "code",
   "execution_count": 92,
   "metadata": {},
   "outputs": [
    {
     "data": {
      "image/png": "[encoded data removed]",
      "text/plain": [
       "<Figure size 576x432 with 1 Axes>"
      ]
     },
     "metadata": {
      "needs_background": "light"
     },
     "output_type": "display_data"
    },
    {
     "name": "stdout",
     "output_type": "stream",
     "text": [
      "Best max_depth {'max_depth': 13}\n"
     ]
    }
   ],
   "source": [
    "max_depth = clf_cv.cv_results_['param_max_depth'].data\n",
    "scores = clf_cv.cv_results_['mean_test_score']\n",
    "\n",
    "plt.figure(figsize=(8, 6))\n",
    "plt.xlabel('max_depth', fontsize=16)\n",
    "plt.ylabel('CV accuracy_score', fontsize=16)\n",
    "plt.scatter(max_depth, scores, s=30)\n",
    "plt.plot(max_depth, scores, linewidth=3)\n",
    "plt.grid(True, which='both')\n",
    "# plt.xlim([0, 0.01])\n",
    "# plt.ylim([0.8, 1])\n",
    "\n",
    "plt.tight_layout()\n",
    "plt.show()\n",
    "\n",
    "print('Best max_depth', clf_cv.best_params_)"
   ]
  },
  {
   "cell_type": "code",
   "execution_count": 93,
   "metadata": {
    "scrolled": true
   },
   "outputs": [
    {
     "name": "stdout",
     "output_type": "stream",
     "text": [
      "time: 1308 s\n",
      "Best learning_rate {'learning_rate': 0.016237767391887217, 'max_depth': 5}\n"
     ]
    }
   ],
   "source": [
    "import time\n",
    "from sklearn.model_selection import GridSearchCV\n",
    "from xgboost import XGBClassifier\n",
    "\n",
    "grid_values = {'learning_rate': np.logspace(-2, 0, 20)\n",
    "              ,'max_depth': range(1,10)\n",
    "              }\n",
    "\n",
    "tic = time.time()\n",
    "clf = XGBClassifier(n_estimators=500, eval_metric = 'logloss')\n",
    "clf_cv = GridSearchCV(clf, param_grid=grid_values, scoring='accuracy', cv=5, verbose=0)\n",
    "clf_cv.fit(Xtrain, Ytrain)\n",
    "toc = time.time()\n",
    "print('time:', round(toc-tic),'s')\n",
    "print('Best learning_rate', clf_cv.best_params_)"
   ]
  },
  {
   "cell_type": "code",
   "execution_count": 94,
   "metadata": {},
   "outputs": [
    {
     "name": "stdout",
     "output_type": "stream",
     "text": [
      "0.858\n"
     ]
    },
    {
     "data": {
      "text/plain": [
       "array([[1111,   46],\n",
       "       [ 167,  176]])"
      ]
     },
     "execution_count": 94,
     "metadata": {},
     "output_type": "execute_result"
    }
   ],
   "source": [
    "from sklearn.metrics import accuracy_score\n",
    "clf = XGBClassifier(n_estimators=500\n",
    "                    ,eval_metric = 'logloss'\n",
    "                    ,learning_rate = 0.016237767391887217\n",
    "                    ,max_depth = 4).fit(Xtrain, Ytrain)\n",
    "print(accuracy_score(Ytest, clf.predict(Xtest)))\n",
    "confusion_matrix(Ytest,clf.predict(Xtest))"
   ]
  },
  {
   "cell_type": "code",
   "execution_count": 95,
   "metadata": {},
   "outputs": [
    {
     "name": "stdout",
     "output_type": "stream",
     "text": [
      "time: 2548 s\n"
     ]
    }
   ],
   "source": [
    "print('time:', round(time.time()-time_start),'s')"
   ]
  },
  {
   "cell_type": "code",
   "execution_count": 96,
   "metadata": {},
   "outputs": [
    {
     "name": "stdout",
     "output_type": "stream",
     "text": [
      "(1000, 1)\n",
      "\n",
      "processing model 0\n",
      "processing: 0 0.00835728645324707 s\n",
      "processing: 100 0.5920262336730957 s\n",
      "processing: 200 1.1838011741638184 s\n",
      "processing: 300 1.7814950942993164 s\n",
      "processing: 400 2.358549118041992 s\n",
      "processing: 500 2.9494752883911133 s\n",
      "processing: 600 3.538374185562134 s\n",
      "processing: 700 4.140760183334351 s\n",
      "processing: 800 4.738996982574463 s\n",
      "processing: 900 5.323794364929199 s\n",
      "time: 5.91718602180481 s\n"
     ]
    },
    {
     "data": {
      "text/html": [
       "<div>\n",
       "<style scoped>\n",
       "    .dataframe tbody tr th:only-of-type {\n",
       "        vertical-align: middle;\n",
       "    }\n",
       "\n",
       "    .dataframe tbody tr th {\n",
       "        vertical-align: top;\n",
       "    }\n",
       "\n",
       "    .dataframe thead th {\n",
       "        text-align: right;\n",
       "    }\n",
       "</style>\n",
       "<table border=\"1\" class=\"dataframe\">\n",
       "  <thead>\n",
       "    <tr style=\"text-align: right;\">\n",
       "      <th></th>\n",
       "      <th>XGBoost</th>\n",
       "    </tr>\n",
       "  </thead>\n",
       "  <tbody>\n",
       "    <tr>\n",
       "      <th>0</th>\n",
       "      <td>0.866000</td>\n",
       "    </tr>\n",
       "    <tr>\n",
       "      <th>1</th>\n",
       "      <td>0.858667</td>\n",
       "    </tr>\n",
       "    <tr>\n",
       "      <th>2</th>\n",
       "      <td>0.857333</td>\n",
       "    </tr>\n",
       "    <tr>\n",
       "      <th>3</th>\n",
       "      <td>0.855333</td>\n",
       "    </tr>\n",
       "    <tr>\n",
       "      <th>4</th>\n",
       "      <td>0.836000</td>\n",
       "    </tr>\n",
       "    <tr>\n",
       "      <th>...</th>\n",
       "      <td>...</td>\n",
       "    </tr>\n",
       "    <tr>\n",
       "      <th>995</th>\n",
       "      <td>0.844667</td>\n",
       "    </tr>\n",
       "    <tr>\n",
       "      <th>996</th>\n",
       "      <td>0.858000</td>\n",
       "    </tr>\n",
       "    <tr>\n",
       "      <th>997</th>\n",
       "      <td>0.858000</td>\n",
       "    </tr>\n",
       "    <tr>\n",
       "      <th>998</th>\n",
       "      <td>0.858000</td>\n",
       "    </tr>\n",
       "    <tr>\n",
       "      <th>999</th>\n",
       "      <td>0.858000</td>\n",
       "    </tr>\n",
       "  </tbody>\n",
       "</table>\n",
       "<p>1000 rows × 1 columns</p>\n",
       "</div>"
      ],
      "text/plain": [
       "      XGBoost\n",
       "0    0.866000\n",
       "1    0.858667\n",
       "2    0.857333\n",
       "3    0.855333\n",
       "4    0.836000\n",
       "..        ...\n",
       "995  0.844667\n",
       "996  0.858000\n",
       "997  0.858000\n",
       "998  0.858000\n",
       "999  0.858000\n",
       "\n",
       "[1000 rows x 1 columns]"
      ]
     },
     "execution_count": 96,
     "metadata": {},
     "output_type": "execute_result"
    }
   ],
   "source": [
    "tic = time.time()\n",
    "bs_output = bootstrap_validation(Xtest,Ytest,Ytrain,[clf],\n",
    "                                 metric = accuracy_score,\n",
    "                                 sample = 1000)\n",
    "print('time:', time.time()-tic, 's')\n",
    "bs_output.rename(columns = {0:'XGBoost'})"
   ]
  },
  {
   "cell_type": "code",
   "execution_count": 97,
   "metadata": {},
   "outputs": [
    {
     "name": "stdout",
     "output_type": "stream",
     "text": [
      "The 95% confidence interval of accuracy is  [0.83866667 0.87466667] With mean accuracy 0.8574546666666654 Standard deviation 0.009210546515332886\n"
     ]
    },
    {
     "data": {
      "text/plain": [
       "<matplotlib.collections.LineCollection at 0x7fe790187ee0>"
      ]
     },
     "execution_count": 97,
     "metadata": {},
     "output_type": "execute_result"
    },
    {
     "data": {
      "image/png": "[encoded data removed]",
      "text/plain": [
       "<Figure size 432x288 with 1 Axes>"
      ]
     },
     "metadata": {
      "needs_background": "light"
     },
     "output_type": "display_data"
    }
   ],
   "source": [
    "CI_acc = np.quantile(bs_output.iloc[:,0],np.array([0.025,0.975]))\n",
    "mean_acc = np.mean(bs_output.iloc[:,0])\n",
    "std_acc = np.std(bs_output.iloc[:,0])\n",
    "fig,ax= plt.subplots()\n",
    "print(\"The 95% confidence interval of accuracy is \",CI_acc,\"With mean accuracy\",mean_acc, \"Standard deviation\",std_acc)\n",
    "#Plot Accuracy\n",
    "ax.set_xlabel('Boot Acc', fontsize=16)\n",
    "ax.set_ylabel('Count', fontsize=16)\n",
    "ax.hist(bs_output.iloc[:,0], bins=20,edgecolor='green', linewidth=2,color =\"grey\")\n",
    "ax.set_xlim([0.78,0.9])\n",
    "ax.vlines(x=CI_acc[0], ymin = 0, ymax =100, color = \"black\")\n",
    "ax.vlines(x=CI_acc[1], ymin = 0, ymax =100, color = \"black\")"
   ]
  }
 ],
 "metadata": {
  "kernelspec": {
   "display_name": "Python 3",
   "language": "python",
   "name": "python3"
  },
  "language_info": {
   "codemirror_mode": {
    "name": "ipython",
    "version": 3
   },
   "file_extension": ".py",
   "mimetype": "text/x-python",
   "name": "python",
   "nbconvert_exporter": "python",
   "pygments_lexer": "ipython3",
   "version": "3.8.8"
  }
 },
 "nbformat": 4,
 "nbformat_minor": 4
}
